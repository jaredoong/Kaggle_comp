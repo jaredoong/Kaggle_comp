{
 "cells": [
  {
   "cell_type": "markdown",
   "id": "ece9e8d9",
   "metadata": {
    "papermill": {
     "duration": 0.102825,
     "end_time": "2022-05-16T23:18:18.905047",
     "exception": false,
     "start_time": "2022-05-16T23:18:18.802222",
     "status": "completed"
    },
    "tags": []
   },
   "source": [
    "## Introduction"
   ]
  },
  {
   "cell_type": "code",
   "execution_count": 1,
   "id": "8a03ed5a",
   "metadata": {},
   "outputs": [
    {
     "name": "stdout",
     "output_type": "stream",
     "text": [
      "Fastai version: 2.7.17\n"
     ]
    }
   ],
   "source": [
    "import fastai\n",
    "\n",
    "import matplotlib.pyplot as plt\n",
    "from pathlib import Path\n",
    "import numpy as np\n",
    "import os\n",
    "import torch\n",
    "import pandas as pd\n",
    "import seaborn as sns\n",
    "\n",
    "from fastai import *\n",
    "\n",
    "print(\"Fastai version:\", fastai.__version__)\n",
    "np.set_printoptions(linewidth=130)\n",
    "\n",
    "# Track whether on Kaggle or not\n",
    "iskaggle = os.environ.get('KAGGLE_KERNEL_RUN_TYPE', '')"
   ]
  },
  {
   "cell_type": "code",
   "execution_count": 2,
   "id": "6d006153",
   "metadata": {},
   "outputs": [
    {
     "name": "stdout",
     "output_type": "stream",
     "text": [
      "Device: cuda\n",
      "CUDA Version: 12.4\n",
      "GPU: NVIDIA GeForce RTX 4080 SUPER\n"
     ]
    }
   ],
   "source": [
    "# Set torch to use cuda if available\n",
    "device = torch.device(\"cuda\" if torch.cuda.is_available() else \"cpu\")\n",
    "print(\"Device:\", device)\n",
    "# If using CUDA, check the version and which GPU is being used\n",
    "if device.type == \"cuda\":\n",
    "    print(\"CUDA Version:\", torch.version.cuda)\n",
    "    print(\"GPU:\", torch.cuda.get_device_name(0))"
   ]
  },
  {
   "cell_type": "code",
   "execution_count": 3,
   "id": "f9240dd6",
   "metadata": {
    "execution": {
     "iopub.execute_input": "2022-05-16T23:18:21.669472Z",
     "iopub.status.busy": "2022-05-16T23:18:21.668423Z",
     "iopub.status.idle": "2022-05-16T23:18:21.671180Z",
     "shell.execute_reply": "2022-05-16T23:18:21.670701Z",
     "shell.execute_reply.started": "2022-04-19T22:50:15.636168Z"
    },
    "papermill": {
     "duration": 0.104227,
     "end_time": "2022-05-16T23:18:21.671310",
     "exception": false,
     "start_time": "2022-05-16T23:18:21.567083",
     "status": "completed"
    },
    "tags": []
   },
   "outputs": [],
   "source": [
    "path = Path('us-patent-phrase-to-phrase-matching')"
   ]
  },
  {
   "cell_type": "code",
   "execution_count": 4,
   "id": "76cd493d",
   "metadata": {
    "execution": {
     "iopub.execute_input": "2022-05-16T23:18:22.063705Z",
     "iopub.status.busy": "2022-05-16T23:18:22.062698Z",
     "iopub.status.idle": "2022-05-16T23:18:22.065286Z",
     "shell.execute_reply": "2022-05-16T23:18:22.064712Z",
     "shell.execute_reply.started": "2022-04-19T22:50:15.645742Z"
    },
    "papermill": {
     "duration": 0.105373,
     "end_time": "2022-05-16T23:18:22.065424",
     "exception": false,
     "start_time": "2022-05-16T23:18:21.960051",
     "status": "completed"
    },
    "tags": []
   },
   "outputs": [
    {
     "name": "stdout",
     "output_type": "stream",
     "text": [
      "us-patent-phrase-to-phrase-matching.zip: Skipping, found more recently modified local copy (use --force to force download)\n"
     ]
    }
   ],
   "source": [
    "# Using Kaggle API to download the dataset\n",
    "\n",
    "if not iskaggle and not path.exists():\n",
    "    import zipfile,kaggle\n",
    "    kaggle.api.competition_download_cli(str(path))\n",
    "    zipfile.ZipFile(f'{path}.zip').extractall(Path('input'))"
   ]
  },
  {
   "cell_type": "markdown",
   "id": "04d27700",
   "metadata": {
    "papermill": {
     "duration": 0.096057,
     "end_time": "2022-05-16T23:18:22.452686",
     "exception": false,
     "start_time": "2022-05-16T23:18:22.356629",
     "status": "completed"
    },
    "tags": []
   },
   "source": [
    "## Import and EDA"
   ]
  },
  {
   "cell_type": "code",
   "execution_count": 5,
   "id": "e7d21aca",
   "metadata": {
    "execution": {
     "iopub.execute_input": "2022-05-16T23:18:22.653940Z",
     "iopub.status.busy": "2022-05-16T23:18:22.653136Z",
     "iopub.status.idle": "2022-05-16T23:18:31.317348Z",
     "shell.execute_reply": "2022-05-16T23:18:31.316520Z",
     "shell.execute_reply.started": "2022-04-19T22:50:15.653623Z"
    },
    "papermill": {
     "duration": 8.767461,
     "end_time": "2022-05-16T23:18:31.317539",
     "exception": false,
     "start_time": "2022-05-16T23:18:22.550078",
     "status": "completed"
    },
    "tags": []
   },
   "outputs": [],
   "source": [
    "if iskaggle:\n",
    "    path = Path('../input/us-patent-phrase-to-phrase-matching')\n",
    "    ! pip install -q datasets"
   ]
  },
  {
   "cell_type": "markdown",
   "id": "e33c3324",
   "metadata": {
    "papermill": {
     "duration": 0.148707,
     "end_time": "2022-05-16T23:18:31.616056",
     "exception": false,
     "start_time": "2022-05-16T23:18:31.467349",
     "status": "completed"
    },
    "tags": []
   },
   "source": [
    "Documents in NLP datasets are generally in one of two main forms:\n",
    "\n",
    "- **Larger documents**: One text file per document, often organised into one folder per category\n",
    "- **Smaller documents**: One document (or document pair, optionally with metadata) per row in a [CSV file](https://realpython.com/python-csv/)."
   ]
  },
  {
   "cell_type": "markdown",
   "id": "b8f0f88b",
   "metadata": {
    "papermill": {
     "duration": 0.088323,
     "end_time": "2022-05-16T23:18:33.079444",
     "exception": false,
     "start_time": "2022-05-16T23:18:32.991121",
     "status": "completed"
    },
    "tags": []
   },
   "source": [
    "Let's set a path to our data:"
   ]
  },
  {
   "cell_type": "code",
   "execution_count": 6,
   "id": "410bf8a8",
   "metadata": {
    "execution": {
     "iopub.execute_input": "2022-05-16T23:18:33.257861Z",
     "iopub.status.busy": "2022-05-16T23:18:33.257213Z",
     "iopub.status.idle": "2022-05-16T23:18:33.338741Z",
     "shell.execute_reply": "2022-05-16T23:18:33.338223Z",
     "shell.execute_reply.started": "2022-04-19T22:50:25.036197Z"
    },
    "papermill": {
     "duration": 0.173142,
     "end_time": "2022-05-16T23:18:33.338883",
     "exception": false,
     "start_time": "2022-05-16T23:18:33.165741",
     "status": "completed"
    },
    "tags": []
   },
   "outputs": [],
   "source": [
    "df = pd.read_csv('input/train.csv')"
   ]
  },
  {
   "cell_type": "code",
   "execution_count": 7,
   "id": "21982274",
   "metadata": {
    "execution": {
     "iopub.execute_input": "2022-05-16T23:18:34.098355Z",
     "iopub.status.busy": "2022-05-16T23:18:34.097454Z",
     "iopub.status.idle": "2022-05-16T23:18:34.145806Z",
     "shell.execute_reply": "2022-05-16T23:18:34.146201Z",
     "shell.execute_reply.started": "2022-04-19T22:50:25.149735Z"
    },
    "papermill": {
     "duration": 0.16831,
     "end_time": "2022-05-16T23:18:34.146345",
     "exception": false,
     "start_time": "2022-05-16T23:18:33.978035",
     "status": "completed"
    },
    "tags": []
   },
   "outputs": [
    {
     "data": {
      "text/html": [
       "<div>\n",
       "<style scoped>\n",
       "    .dataframe tbody tr th:only-of-type {\n",
       "        vertical-align: middle;\n",
       "    }\n",
       "\n",
       "    .dataframe tbody tr th {\n",
       "        vertical-align: top;\n",
       "    }\n",
       "\n",
       "    .dataframe thead th {\n",
       "        text-align: right;\n",
       "    }\n",
       "</style>\n",
       "<table border=\"1\" class=\"dataframe\">\n",
       "  <thead>\n",
       "    <tr style=\"text-align: right;\">\n",
       "      <th></th>\n",
       "      <th>id</th>\n",
       "      <th>anchor</th>\n",
       "      <th>target</th>\n",
       "      <th>context</th>\n",
       "    </tr>\n",
       "  </thead>\n",
       "  <tbody>\n",
       "    <tr>\n",
       "      <th>count</th>\n",
       "      <td>36473</td>\n",
       "      <td>36473</td>\n",
       "      <td>36473</td>\n",
       "      <td>36473</td>\n",
       "    </tr>\n",
       "    <tr>\n",
       "      <th>unique</th>\n",
       "      <td>36473</td>\n",
       "      <td>733</td>\n",
       "      <td>29340</td>\n",
       "      <td>106</td>\n",
       "    </tr>\n",
       "    <tr>\n",
       "      <th>top</th>\n",
       "      <td>37d61fd2272659b1</td>\n",
       "      <td>component composite coating</td>\n",
       "      <td>composition</td>\n",
       "      <td>H01</td>\n",
       "    </tr>\n",
       "    <tr>\n",
       "      <th>freq</th>\n",
       "      <td>1</td>\n",
       "      <td>152</td>\n",
       "      <td>24</td>\n",
       "      <td>2186</td>\n",
       "    </tr>\n",
       "  </tbody>\n",
       "</table>\n",
       "</div>"
      ],
      "text/plain": [
       "                      id                       anchor       target context\n",
       "count              36473                        36473        36473   36473\n",
       "unique             36473                          733        29340     106\n",
       "top     37d61fd2272659b1  component composite coating  composition     H01\n",
       "freq                   1                          152           24    2186"
      ]
     },
     "execution_count": 7,
     "metadata": {},
     "output_type": "execute_result"
    }
   ],
   "source": [
    "df.describe(include='object')"
   ]
  },
  {
   "cell_type": "markdown",
   "id": "625b4e8b",
   "metadata": {
    "papermill": {
     "duration": 0.08891,
     "end_time": "2022-05-16T23:18:34.323267",
     "exception": false,
     "start_time": "2022-05-16T23:18:34.234357",
     "status": "completed"
    },
    "tags": []
   },
   "source": [
    "We can see that in the 36473 rows, there are 733 unique anchors, 106 contexts, and nearly 30000 targets. Some anchors are very common, with \"component composite coating\" for instance appearing 152 times.\n",
    "\n",
    "Earlier, I suggested we could represent the input to the model as something like \"*TEXT1: abatement; TEXT2: eliminating process*\". We'll need to add the context to this too. In Pandas, we just use `+` to concatenate, like so:"
   ]
  },
  {
   "cell_type": "code",
   "execution_count": 8,
   "id": "d950dfad",
   "metadata": {
    "execution": {
     "iopub.execute_input": "2022-05-16T23:18:34.525187Z",
     "iopub.status.busy": "2022-05-16T23:18:34.509818Z",
     "iopub.status.idle": "2022-05-16T23:18:34.535058Z",
     "shell.execute_reply": "2022-05-16T23:18:34.534144Z",
     "shell.execute_reply.started": "2022-04-19T22:50:25.226549Z"
    },
    "papermill": {
     "duration": 0.123242,
     "end_time": "2022-05-16T23:18:34.535176",
     "exception": false,
     "start_time": "2022-05-16T23:18:34.411934",
     "status": "completed"
    },
    "tags": []
   },
   "outputs": [],
   "source": [
    "df['input'] = 'TEXT1: ' + df.context + '; TEXT2: ' + df.target + '; ANC1: ' + df.anchor"
   ]
  },
  {
   "cell_type": "markdown",
   "id": "7e74bcd3",
   "metadata": {
    "papermill": {
     "duration": 0.088484,
     "end_time": "2022-05-16T23:18:34.712258",
     "exception": false,
     "start_time": "2022-05-16T23:18:34.623774",
     "status": "completed"
    },
    "tags": []
   },
   "source": [
    "We can refer to a column (also known as a *series*) either using regular python \"dotted\" notation, or access it like a dictionary. To get the first few rows, use `head()`:"
   ]
  },
  {
   "cell_type": "code",
   "execution_count": 9,
   "id": "c9bbe94c",
   "metadata": {
    "execution": {
     "iopub.execute_input": "2022-05-16T23:18:34.896887Z",
     "iopub.status.busy": "2022-05-16T23:18:34.896259Z",
     "iopub.status.idle": "2022-05-16T23:18:34.899014Z",
     "shell.execute_reply": "2022-05-16T23:18:34.899432Z",
     "shell.execute_reply.started": "2022-04-19T22:50:25.25829Z"
    },
    "papermill": {
     "duration": 0.09874,
     "end_time": "2022-05-16T23:18:34.899569",
     "exception": false,
     "start_time": "2022-05-16T23:18:34.800829",
     "status": "completed"
    },
    "tags": []
   },
   "outputs": [
    {
     "data": {
      "text/plain": [
       "0    TEXT1: A47; TEXT2: abatement of pollution; ANC...\n",
       "1    TEXT1: A47; TEXT2: act of abating; ANC1: abate...\n",
       "2    TEXT1: A47; TEXT2: active catalyst; ANC1: abat...\n",
       "3    TEXT1: A47; TEXT2: eliminating process; ANC1: ...\n",
       "4    TEXT1: A47; TEXT2: forest region; ANC1: abatement\n",
       "Name: input, dtype: object"
      ]
     },
     "execution_count": 9,
     "metadata": {},
     "output_type": "execute_result"
    }
   ],
   "source": [
    "df.input.head()"
   ]
  },
  {
   "cell_type": "markdown",
   "id": "528ae2cf",
   "metadata": {
    "papermill": {
     "duration": 0.090197,
     "end_time": "2022-05-16T23:18:35.078246",
     "exception": false,
     "start_time": "2022-05-16T23:18:34.988049",
     "status": "completed"
    },
    "tags": []
   },
   "source": [
    "## Tokenization"
   ]
  },
  {
   "cell_type": "code",
   "execution_count": 10,
   "id": "46fe2b83",
   "metadata": {
    "execution": {
     "iopub.execute_input": "2022-05-16T23:18:35.438352Z",
     "iopub.status.busy": "2022-05-16T23:18:35.437675Z",
     "iopub.status.idle": "2022-05-16T23:18:37.535196Z",
     "shell.execute_reply": "2022-05-16T23:18:37.534706Z",
     "shell.execute_reply.started": "2022-04-19T22:50:25.267906Z"
    },
    "papermill": {
     "duration": 2.190631,
     "end_time": "2022-05-16T23:18:37.535330",
     "exception": false,
     "start_time": "2022-05-16T23:18:35.344699",
     "status": "completed"
    },
    "tags": []
   },
   "outputs": [],
   "source": [
    "from datasets import Dataset,DatasetDict\n",
    "\n",
    "ds = Dataset.from_pandas(df)"
   ]
  },
  {
   "cell_type": "markdown",
   "id": "2a9712b2",
   "metadata": {
    "papermill": {
     "duration": 0.094487,
     "end_time": "2022-05-16T23:18:37.724881",
     "exception": false,
     "start_time": "2022-05-16T23:18:37.630394",
     "status": "completed"
    },
    "tags": []
   },
   "source": [
    "Here's how it's displayed in a notebook:"
   ]
  },
  {
   "cell_type": "code",
   "execution_count": 11,
   "id": "26089735",
   "metadata": {
    "execution": {
     "iopub.execute_input": "2022-05-16T23:18:37.917875Z",
     "iopub.status.busy": "2022-05-16T23:18:37.916717Z",
     "iopub.status.idle": "2022-05-16T23:18:37.920232Z",
     "shell.execute_reply": "2022-05-16T23:18:37.919832Z",
     "shell.execute_reply.started": "2022-04-19T22:50:27.331754Z"
    },
    "papermill": {
     "duration": 0.097799,
     "end_time": "2022-05-16T23:18:37.920352",
     "exception": false,
     "start_time": "2022-05-16T23:18:37.822553",
     "status": "completed"
    },
    "tags": []
   },
   "outputs": [
    {
     "data": {
      "text/plain": [
       "Dataset({\n",
       "    features: ['id', 'anchor', 'target', 'context', 'score', 'input'],\n",
       "    num_rows: 36473\n",
       "})"
      ]
     },
     "execution_count": 11,
     "metadata": {},
     "output_type": "execute_result"
    }
   ],
   "source": [
    "ds"
   ]
  },
  {
   "cell_type": "markdown",
   "id": "73bff7b1",
   "metadata": {
    "papermill": {
     "duration": 0.090915,
     "end_time": "2022-05-16T23:18:38.100934",
     "exception": false,
     "start_time": "2022-05-16T23:18:38.010019",
     "status": "completed"
    },
    "tags": []
   },
   "source": [
    "But we can't pass the texts directly into a model. A deep learning model expects numbers as inputs, not English sentences! So we need to do two things:\n",
    "\n",
    "- *Tokenization*: Split each text up into words (or actually, as we'll see, into *tokens*)\n",
    "- *Numericalization*: Convert each word (or token) into a number.\n",
    "\n",
    "The details about how this is done actually depend on the particular model we use. So first we'll need to pick a model. There are thousands of models available, but a reasonable starting point for nearly any NLP problem is to use this (replace \"small\" with \"large\" for a slower but more accurate model, once you've finished exploring):"
   ]
  },
  {
   "cell_type": "code",
   "execution_count": 12,
   "id": "94f04956",
   "metadata": {
    "execution": {
     "iopub.execute_input": "2022-05-16T23:18:38.291309Z",
     "iopub.status.busy": "2022-05-16T23:18:38.290399Z",
     "iopub.status.idle": "2022-05-16T23:18:38.292739Z",
     "shell.execute_reply": "2022-05-16T23:18:38.292199Z",
     "shell.execute_reply.started": "2022-04-19T22:50:27.345436Z"
    },
    "papermill": {
     "duration": 0.103204,
     "end_time": "2022-05-16T23:18:38.292884",
     "exception": false,
     "start_time": "2022-05-16T23:18:38.189680",
     "status": "completed"
    },
    "tags": []
   },
   "outputs": [],
   "source": [
    "# When iterating, try to use a small model first, then move to a larger model to get higher accuracy once experimentation is done\n",
    "\n",
    "model_nm = 'microsoft/deberta-v3-small'"
   ]
  },
  {
   "cell_type": "markdown",
   "id": "f8a437e9",
   "metadata": {
    "papermill": {
     "duration": 0.08842,
     "end_time": "2022-05-16T23:18:38.471586",
     "exception": false,
     "start_time": "2022-05-16T23:18:38.383166",
     "status": "completed"
    },
    "tags": []
   },
   "source": [
    "`AutoTokenizer` will create a tokenizer appropriate for a given model:"
   ]
  },
  {
   "cell_type": "code",
   "execution_count": 13,
   "id": "9a7191a0",
   "metadata": {
    "execution": {
     "iopub.execute_input": "2022-05-16T23:18:38.655835Z",
     "iopub.status.busy": "2022-05-16T23:18:38.655114Z",
     "iopub.status.idle": "2022-05-16T23:18:44.932165Z",
     "shell.execute_reply": "2022-05-16T23:18:44.931194Z",
     "shell.execute_reply.started": "2022-04-19T22:50:27.353989Z"
    },
    "papermill": {
     "duration": 6.371289,
     "end_time": "2022-05-16T23:18:44.932308",
     "exception": false,
     "start_time": "2022-05-16T23:18:38.561019",
     "status": "completed"
    },
    "tags": []
   },
   "outputs": [
    {
     "name": "stderr",
     "output_type": "stream",
     "text": [
      "c:\\Users\\jared\\Documents\\fastai_repo\\fastbook\\fastai_venv\\Lib\\site-packages\\transformers\\tokenization_utils_base.py:1601: FutureWarning: `clean_up_tokenization_spaces` was not set. It will be set to `True` by default. This behavior will be depracted in transformers v4.45, and will be then set to `False` by default. For more details check this issue: https://github.com/huggingface/transformers/issues/31884\n",
      "  warnings.warn(\n",
      "c:\\Users\\jared\\Documents\\fastai_repo\\fastbook\\fastai_venv\\Lib\\site-packages\\transformers\\convert_slow_tokenizer.py:551: UserWarning: The sentencepiece tokenizer that you are converting to a fast tokenizer uses the byte fallback option which is not implemented in the fast tokenizers. In practice this means that the fast version of the tokenizer can produce unknown tokens whereas the sentencepiece version would have converted these unknown tokens into a sequence of byte tokens matching the original piece of text.\n",
      "  warnings.warn(\n"
     ]
    }
   ],
   "source": [
    "from transformers import AutoModelForSequenceClassification,AutoTokenizer\n",
    "tokz = AutoTokenizer.from_pretrained(model_nm)"
   ]
  },
  {
   "cell_type": "markdown",
   "id": "bd495e28",
   "metadata": {
    "papermill": {
     "duration": 0.095077,
     "end_time": "2022-05-16T23:18:45.131869",
     "exception": false,
     "start_time": "2022-05-16T23:18:45.036792",
     "status": "completed"
    },
    "tags": []
   },
   "source": [
    "Here's an example of how the tokenizer splits a text into \"tokens\" (which are like words, but can be sub-word pieces, as you see below):"
   ]
  },
  {
   "cell_type": "code",
   "execution_count": 14,
   "id": "2c972cb4",
   "metadata": {
    "execution": {
     "iopub.execute_input": "2022-05-16T23:18:45.320094Z",
     "iopub.status.busy": "2022-05-16T23:18:45.319492Z",
     "iopub.status.idle": "2022-05-16T23:18:45.322225Z",
     "shell.execute_reply": "2022-05-16T23:18:45.322660Z",
     "shell.execute_reply.started": "2022-04-19T22:50:32.889936Z"
    },
    "papermill": {
     "duration": 0.099704,
     "end_time": "2022-05-16T23:18:45.322809",
     "exception": false,
     "start_time": "2022-05-16T23:18:45.223105",
     "status": "completed"
    },
    "tags": []
   },
   "outputs": [
    {
     "data": {
      "text/plain": [
       "['▁G',\n",
       " \"'\",\n",
       " 'day',\n",
       " '▁folks',\n",
       " ',',\n",
       " '▁I',\n",
       " \"'\",\n",
       " 'm',\n",
       " '▁Jeremy',\n",
       " '▁from',\n",
       " '▁fast',\n",
       " '.',\n",
       " 'ai',\n",
       " '!']"
      ]
     },
     "execution_count": 14,
     "metadata": {},
     "output_type": "execute_result"
    }
   ],
   "source": [
    "tokz.tokenize(\"G'day folks, I'm Jeremy from fast.ai!\")"
   ]
  },
  {
   "cell_type": "markdown",
   "id": "e3d6eacc",
   "metadata": {
    "papermill": {
     "duration": 0.100207,
     "end_time": "2022-05-16T23:18:45.513113",
     "exception": false,
     "start_time": "2022-05-16T23:18:45.412906",
     "status": "completed"
    },
    "tags": []
   },
   "source": [
    "Uncommon words will be split into pieces. The start of a new word is represented by `▁`:"
   ]
  },
  {
   "cell_type": "code",
   "execution_count": 15,
   "id": "a577550d",
   "metadata": {
    "execution": {
     "iopub.execute_input": "2022-05-16T23:18:45.709111Z",
     "iopub.status.busy": "2022-05-16T23:18:45.708496Z",
     "iopub.status.idle": "2022-05-16T23:18:45.711119Z",
     "shell.execute_reply": "2022-05-16T23:18:45.711568Z",
     "shell.execute_reply.started": "2022-04-19T22:50:32.904456Z"
    },
    "papermill": {
     "duration": 0.098427,
     "end_time": "2022-05-16T23:18:45.711709",
     "exception": false,
     "start_time": "2022-05-16T23:18:45.613282",
     "status": "completed"
    },
    "tags": []
   },
   "outputs": [
    {
     "data": {
      "text/plain": [
       "['▁A',\n",
       " '▁platypus',\n",
       " '▁is',\n",
       " '▁an',\n",
       " '▁or',\n",
       " 'ni',\n",
       " 'tho',\n",
       " 'rhynch',\n",
       " 'us',\n",
       " '▁an',\n",
       " 'at',\n",
       " 'inus',\n",
       " '.']"
      ]
     },
     "execution_count": 15,
     "metadata": {},
     "output_type": "execute_result"
    }
   ],
   "source": [
    "tokz.tokenize(\"A platypus is an ornithorhynchus anatinus.\")"
   ]
  },
  {
   "cell_type": "markdown",
   "id": "9b98a677",
   "metadata": {
    "papermill": {
     "duration": 0.090466,
     "end_time": "2022-05-16T23:18:45.892899",
     "exception": false,
     "start_time": "2022-05-16T23:18:45.802433",
     "status": "completed"
    },
    "tags": []
   },
   "source": [
    "Here's a simple function which tokenizes our inputs:"
   ]
  },
  {
   "cell_type": "code",
   "execution_count": 16,
   "id": "5b4df894",
   "metadata": {
    "execution": {
     "iopub.execute_input": "2022-05-16T23:18:46.081044Z",
     "iopub.status.busy": "2022-05-16T23:18:46.079465Z",
     "iopub.status.idle": "2022-05-16T23:18:46.081698Z",
     "shell.execute_reply": "2022-05-16T23:18:46.082102Z",
     "shell.execute_reply.started": "2022-04-19T22:50:32.9125Z"
    },
    "papermill": {
     "duration": 0.098195,
     "end_time": "2022-05-16T23:18:46.082230",
     "exception": false,
     "start_time": "2022-05-16T23:18:45.984035",
     "status": "completed"
    },
    "tags": []
   },
   "outputs": [],
   "source": [
    "def tok_func(x): return tokz(x[\"input\"])"
   ]
  },
  {
   "cell_type": "markdown",
   "id": "5fc5b51f",
   "metadata": {
    "papermill": {
     "duration": 0.08984,
     "end_time": "2022-05-16T23:18:46.263955",
     "exception": false,
     "start_time": "2022-05-16T23:18:46.174115",
     "status": "completed"
    },
    "tags": []
   },
   "source": [
    "To run this quickly in parallel on every row in our dataset, use `map`:"
   ]
  },
  {
   "cell_type": "code",
   "execution_count": 17,
   "id": "9dcae86d",
   "metadata": {
    "execution": {
     "iopub.execute_input": "2022-05-16T23:18:46.454144Z",
     "iopub.status.busy": "2022-05-16T23:18:46.453303Z",
     "iopub.status.idle": "2022-05-16T23:18:54.033052Z",
     "shell.execute_reply": "2022-05-16T23:18:54.032576Z",
     "shell.execute_reply.started": "2022-04-19T22:50:32.920244Z"
    },
    "papermill": {
     "duration": 7.678097,
     "end_time": "2022-05-16T23:18:54.033180",
     "exception": false,
     "start_time": "2022-05-16T23:18:46.355083",
     "status": "completed"
    },
    "tags": []
   },
   "outputs": [
    {
     "data": {
      "application/vnd.jupyter.widget-view+json": {
       "model_id": "930c79eb1c9e4bd8acf55e74136fcdf7",
       "version_major": 2,
       "version_minor": 0
      },
      "text/plain": [
       "Map:   0%|          | 0/36473 [00:00<?, ? examples/s]"
      ]
     },
     "metadata": {},
     "output_type": "display_data"
    }
   ],
   "source": [
    "# Use map function to run the tokenization function on the dataset in parallel\n",
    "\n",
    "tok_ds = ds.map(tok_func, batched=True)"
   ]
  },
  {
   "cell_type": "markdown",
   "id": "0dd77a16",
   "metadata": {
    "papermill": {
     "duration": 0.094896,
     "end_time": "2022-05-16T23:18:54.222495",
     "exception": false,
     "start_time": "2022-05-16T23:18:54.127599",
     "status": "completed"
    },
    "tags": []
   },
   "source": [
    "This adds a new item to our dataset called `input_ids`. For instance, here is the input and IDs for the first row of our data:"
   ]
  },
  {
   "cell_type": "code",
   "execution_count": 18,
   "id": "ef6401c5",
   "metadata": {
    "execution": {
     "iopub.execute_input": "2022-05-16T23:18:54.427236Z",
     "iopub.status.busy": "2022-05-16T23:18:54.426628Z",
     "iopub.status.idle": "2022-05-16T23:18:54.429396Z",
     "shell.execute_reply": "2022-05-16T23:18:54.429872Z",
     "shell.execute_reply.started": "2022-04-19T22:50:40.025726Z"
    },
    "papermill": {
     "duration": 0.10725,
     "end_time": "2022-05-16T23:18:54.430009",
     "exception": false,
     "start_time": "2022-05-16T23:18:54.322759",
     "status": "completed"
    },
    "tags": []
   },
   "outputs": [
    {
     "data": {
      "text/plain": [
       "('TEXT1: A47; TEXT2: abatement of pollution; ANC1: abatement',\n",
       " [1,\n",
       "  54453,\n",
       "  435,\n",
       "  294,\n",
       "  336,\n",
       "  5753,\n",
       "  346,\n",
       "  54453,\n",
       "  445,\n",
       "  294,\n",
       "  47284,\n",
       "  265,\n",
       "  6435,\n",
       "  346,\n",
       "  23702,\n",
       "  435,\n",
       "  294,\n",
       "  47284,\n",
       "  2])"
      ]
     },
     "execution_count": 18,
     "metadata": {},
     "output_type": "execute_result"
    }
   ],
   "source": [
    "row = tok_ds[0]\n",
    "row['input'], row['input_ids']"
   ]
  },
  {
   "cell_type": "markdown",
   "id": "b5dafa61",
   "metadata": {
    "papermill": {
     "duration": 0.096597,
     "end_time": "2022-05-16T23:18:54.624153",
     "exception": false,
     "start_time": "2022-05-16T23:18:54.527556",
     "status": "completed"
    },
    "tags": []
   },
   "source": [
    "So, what are those IDs and where do they come from? The secret is that there's a list called `vocab` in the tokenizer which contains a unique integer for every possible token string. We can look them up like this, for instance to find the token for the word \"of\":"
   ]
  },
  {
   "cell_type": "code",
   "execution_count": 19,
   "id": "d15fe108",
   "metadata": {
    "execution": {
     "iopub.execute_input": "2022-05-16T23:18:54.834285Z",
     "iopub.status.busy": "2022-05-16T23:18:54.833617Z",
     "iopub.status.idle": "2022-05-16T23:18:54.836600Z",
     "shell.execute_reply": "2022-05-16T23:18:54.837081Z",
     "shell.execute_reply.started": "2022-04-19T22:50:40.035118Z"
    },
    "papermill": {
     "duration": 0.114718,
     "end_time": "2022-05-16T23:18:54.837222",
     "exception": false,
     "start_time": "2022-05-16T23:18:54.722504",
     "status": "completed"
    },
    "tags": []
   },
   "outputs": [
    {
     "data": {
      "text/plain": [
       "265"
      ]
     },
     "execution_count": 19,
     "metadata": {},
     "output_type": "execute_result"
    }
   ],
   "source": [
    "tokz.vocab['▁of']"
   ]
  },
  {
   "cell_type": "markdown",
   "id": "eb58e8bc",
   "metadata": {
    "papermill": {
     "duration": 0.105436,
     "end_time": "2022-05-16T23:18:55.050112",
     "exception": false,
     "start_time": "2022-05-16T23:18:54.944676",
     "status": "completed"
    },
    "tags": []
   },
   "source": [
    "Looking above at our input IDs, we do indeed see that `265` appears as expected.\n",
    "\n",
    "Finally, we need to prepare our labels. Transformers always assumes that your labels has the column name `labels`, but in our dataset it's currently `score`. Therefore, we need to rename it:"
   ]
  },
  {
   "cell_type": "code",
   "execution_count": 20,
   "id": "1872e8aa",
   "metadata": {
    "execution": {
     "iopub.execute_input": "2022-05-16T23:18:55.247145Z",
     "iopub.status.busy": "2022-05-16T23:18:55.246268Z",
     "iopub.status.idle": "2022-05-16T23:18:55.249927Z",
     "shell.execute_reply": "2022-05-16T23:18:55.249454Z",
     "shell.execute_reply.started": "2022-04-19T22:50:40.045156Z"
    },
    "papermill": {
     "duration": 0.101969,
     "end_time": "2022-05-16T23:18:55.250039",
     "exception": false,
     "start_time": "2022-05-16T23:18:55.148070",
     "status": "completed"
    },
    "tags": []
   },
   "outputs": [],
   "source": [
    "tok_ds = tok_ds.rename_columns({'score':'labels'})"
   ]
  },
  {
   "cell_type": "markdown",
   "id": "e458a967",
   "metadata": {
    "papermill": {
     "duration": 0.091676,
     "end_time": "2022-05-16T23:18:55.433347",
     "exception": false,
     "start_time": "2022-05-16T23:18:55.341671",
     "status": "completed"
    },
    "tags": []
   },
   "source": [
    "Now that we've prepared our tokens and labels, we need to create our validation set."
   ]
  },
  {
   "cell_type": "markdown",
   "id": "66c7a56c",
   "metadata": {
    "papermill": {
     "duration": 0.091929,
     "end_time": "2022-05-16T23:18:55.616679",
     "exception": false,
     "start_time": "2022-05-16T23:18:55.524750",
     "status": "completed"
    },
    "tags": []
   },
   "source": [
    "## Test and validation sets"
   ]
  },
  {
   "cell_type": "markdown",
   "id": "c80d0906",
   "metadata": {
    "heading_collapsed": true,
    "papermill": {
     "duration": 0.091766,
     "end_time": "2022-05-16T23:18:56.421195",
     "exception": false,
     "start_time": "2022-05-16T23:18:56.329429",
     "status": "completed"
    },
    "tags": []
   },
   "source": [
    "### Validation set"
   ]
  },
  {
   "cell_type": "markdown",
   "id": "4789f92a",
   "metadata": {
    "hidden": true,
    "papermill": {
     "duration": 0.096446,
     "end_time": "2022-05-16T23:19:02.537038",
     "exception": false,
     "start_time": "2022-05-16T23:19:02.440592",
     "status": "completed"
    },
    "tags": []
   },
   "source": [
    "Transformers uses a `DatasetDict` for holding your training and validation sets. To create one that contains 25% of our data for the validation set, and 75% for the training set, use `train_test_split`:"
   ]
  },
  {
   "cell_type": "code",
   "execution_count": 21,
   "id": "b8b1e366",
   "metadata": {
    "execution": {
     "iopub.execute_input": "2022-05-16T23:19:02.734895Z",
     "iopub.status.busy": "2022-05-16T23:19:02.734114Z",
     "iopub.status.idle": "2022-05-16T23:19:02.754237Z",
     "shell.execute_reply": "2022-05-16T23:19:02.754678Z",
     "shell.execute_reply.started": "2022-04-19T22:50:42.182674Z"
    },
    "hidden": true,
    "papermill": {
     "duration": 0.122148,
     "end_time": "2022-05-16T23:19:02.754828",
     "exception": false,
     "start_time": "2022-05-16T23:19:02.632680",
     "status": "completed"
    },
    "tags": []
   },
   "outputs": [
    {
     "data": {
      "text/plain": [
       "DatasetDict({\n",
       "    train: Dataset({\n",
       "        features: ['id', 'anchor', 'target', 'context', 'labels', 'input', 'input_ids', 'token_type_ids', 'attention_mask'],\n",
       "        num_rows: 27354\n",
       "    })\n",
       "    test: Dataset({\n",
       "        features: ['id', 'anchor', 'target', 'context', 'labels', 'input', 'input_ids', 'token_type_ids', 'attention_mask'],\n",
       "        num_rows: 9119\n",
       "    })\n",
       "})"
      ]
     },
     "execution_count": 21,
     "metadata": {},
     "output_type": "execute_result"
    }
   ],
   "source": [
    "dds = tok_ds.train_test_split(0.25, seed=42)\n",
    "dds"
   ]
  },
  {
   "cell_type": "markdown",
   "id": "776f4394",
   "metadata": {
    "hidden": true,
    "papermill": {
     "duration": 0.096073,
     "end_time": "2022-05-16T23:19:02.948686",
     "exception": false,
     "start_time": "2022-05-16T23:19:02.852613",
     "status": "completed"
    },
    "tags": []
   },
   "source": [
    "As you see above, the validation set here is called `test` and not `validate`, so be careful!\n",
    "\n",
    "In practice, a random split like we've used here might not be a good idea -- here's what Dr Rachel Thomas has to say about it:\n",
    "\n",
    "> \"*One of the most likely culprits for this disconnect between results in development vs results in production is a poorly chosen validation set (or even worse, no validation set at all). Depending on the nature of your data, choosing a validation set can be the most important step. Although sklearn offers a `train_test_split` method, this method takes a random subset of the data, which is a poor choice for many real-world problems.*\"\n",
    "\n",
    "I strongly recommend reading her article [How (and why) to create a good validation set](https://www.fast.ai/2017/11/13/validation-sets/) to more fully understand this critical topic."
   ]
  },
  {
   "cell_type": "markdown",
   "id": "dc1f53c9",
   "metadata": {
    "heading_collapsed": true,
    "papermill": {
     "duration": 0.096584,
     "end_time": "2022-05-16T23:19:03.142638",
     "exception": false,
     "start_time": "2022-05-16T23:19:03.046054",
     "status": "completed"
    },
    "tags": []
   },
   "source": [
    "### Test set"
   ]
  },
  {
   "cell_type": "markdown",
   "id": "e665eb75",
   "metadata": {
    "hidden": true,
    "papermill": {
     "duration": 0.10414,
     "end_time": "2022-05-16T23:19:03.343573",
     "exception": false,
     "start_time": "2022-05-16T23:19:03.239433",
     "status": "completed"
    },
    "tags": []
   },
   "source": [
    "So that's the validation set explained, and created. What about the \"test set\" then -- what's that for?\n",
    "\n",
    "The *test set* is yet another dataset that's held out from training. But it's held out from reporting metrics too! The accuracy of your model on the test set is only ever checked after you've completed your entire training process, including trying different models, training methods, data processing, etc.\n",
    "\n",
    "You see, as you try all these different things, to see their impact on the metrics on the validation set, you might just accidentally find a few things that entirely coincidentally improve your validation set metrics, but aren't really better in practice. Given enough time and experiments, you'll find lots of these coincidental improvements. That means you're actually over-fitting to your validation set!\n",
    "\n",
    "That's why we keep a test set held back. Kaggle's public leaderboard is like a test set that you can check from time to time. But don't check too often, or you'll be even over-fitting to the test set!\n",
    "\n",
    "Kaggle has a *second* test set, which is yet another held-out dataset that's only used at the *end* of the competition to assess your predictions. That's called the \"private leaderboard\". Here's a [great post](https://gregpark.io/blog/Kaggle-Psychopathy-Postmortem/) about what can happen if you overfit to the public leaderboard.\n",
    "\n",
    "We'll use `eval` as our name for the test set, to avoid confusion with the `test` dataset that was created above."
   ]
  },
  {
   "cell_type": "code",
   "execution_count": 22,
   "id": "f48cb5d3",
   "metadata": {},
   "outputs": [
    {
     "data": {
      "text/html": [
       "<div>\n",
       "<style scoped>\n",
       "    .dataframe tbody tr th:only-of-type {\n",
       "        vertical-align: middle;\n",
       "    }\n",
       "\n",
       "    .dataframe tbody tr th {\n",
       "        vertical-align: top;\n",
       "    }\n",
       "\n",
       "    .dataframe thead th {\n",
       "        text-align: right;\n",
       "    }\n",
       "</style>\n",
       "<table border=\"1\" class=\"dataframe\">\n",
       "  <thead>\n",
       "    <tr style=\"text-align: right;\">\n",
       "      <th></th>\n",
       "      <th>id</th>\n",
       "      <th>anchor</th>\n",
       "      <th>target</th>\n",
       "      <th>context</th>\n",
       "    </tr>\n",
       "  </thead>\n",
       "  <tbody>\n",
       "    <tr>\n",
       "      <th>count</th>\n",
       "      <td>36</td>\n",
       "      <td>36</td>\n",
       "      <td>36</td>\n",
       "      <td>36</td>\n",
       "    </tr>\n",
       "    <tr>\n",
       "      <th>unique</th>\n",
       "      <td>36</td>\n",
       "      <td>34</td>\n",
       "      <td>36</td>\n",
       "      <td>29</td>\n",
       "    </tr>\n",
       "    <tr>\n",
       "      <th>top</th>\n",
       "      <td>4112d61851461f60</td>\n",
       "      <td>el display</td>\n",
       "      <td>inorganic photoconductor drum</td>\n",
       "      <td>G02</td>\n",
       "    </tr>\n",
       "    <tr>\n",
       "      <th>freq</th>\n",
       "      <td>1</td>\n",
       "      <td>2</td>\n",
       "      <td>1</td>\n",
       "      <td>3</td>\n",
       "    </tr>\n",
       "  </tbody>\n",
       "</table>\n",
       "</div>"
      ],
      "text/plain": [
       "                      id      anchor                         target context\n",
       "count                 36          36                             36      36\n",
       "unique                36          34                             36      29\n",
       "top     4112d61851461f60  el display  inorganic photoconductor drum     G02\n",
       "freq                   1           2                              1       3"
      ]
     },
     "execution_count": 22,
     "metadata": {},
     "output_type": "execute_result"
    }
   ],
   "source": [
    "eval_df = pd.read_csv('input/test.csv')\n",
    "eval_df.describe()"
   ]
  },
  {
   "cell_type": "code",
   "execution_count": 23,
   "id": "3a064b7f",
   "metadata": {
    "execution": {
     "iopub.execute_input": "2022-05-16T23:19:03.544188Z",
     "iopub.status.busy": "2022-05-16T23:19:03.543651Z",
     "iopub.status.idle": "2022-05-16T23:19:04.825203Z",
     "shell.execute_reply": "2022-05-16T23:19:04.823967Z",
     "shell.execute_reply.started": "2022-04-19T22:50:42.209113Z"
    },
    "hidden": true,
    "papermill": {
     "duration": 1.38502,
     "end_time": "2022-05-16T23:19:04.825395",
     "exception": false,
     "start_time": "2022-05-16T23:19:03.440375",
     "status": "completed"
    },
    "tags": []
   },
   "outputs": [
    {
     "data": {
      "application/vnd.jupyter.widget-view+json": {
       "model_id": "626b2da1da4549418c2a0c88a1f2536a",
       "version_major": 2,
       "version_minor": 0
      },
      "text/plain": [
       "Map:   0%|          | 0/36 [00:00<?, ? examples/s]"
      ]
     },
     "metadata": {},
     "output_type": "display_data"
    }
   ],
   "source": [
    "eval_df['input'] = 'TEXT1: ' + eval_df.context + '; TEXT2: ' + eval_df.target + '; ANC1: ' + eval_df.anchor\n",
    "eval_ds = Dataset.from_pandas(eval_df).map(tok_func, batched=True)"
   ]
  },
  {
   "cell_type": "markdown",
   "id": "a782e55e",
   "metadata": {
    "heading_collapsed": true,
    "papermill": {
     "duration": 0.109004,
     "end_time": "2022-05-16T23:19:05.050664",
     "exception": false,
     "start_time": "2022-05-16T23:19:04.941660",
     "status": "completed"
    },
    "tags": []
   },
   "source": [
    "## Metrics and correlation"
   ]
  },
  {
   "cell_type": "markdown",
   "id": "afde9fc3",
   "metadata": {
    "hidden": true,
    "papermill": {
     "duration": 0.097068,
     "end_time": "2022-05-16T23:19:05.244731",
     "exception": false,
     "start_time": "2022-05-16T23:19:05.147663",
     "status": "completed"
    },
    "tags": []
   },
   "source": [
    "When we're training a model, there will be one or more *metrics* that we're interested in maximising or minimising. These are the measurements that should, hopefully, represent how well our model will works for us.\n",
    "\n",
    "In real life, outside of Kaggle, things not easy... As my partner Dr Rachel Thomas notes in [The problem with metrics is a big problem for AI](https://www.fast.ai/2019/09/24/metrics/):\n",
    "\n",
    ">  At their heart, what most current AI approaches do is to optimize metrics. The practice of optimizing metrics is not new nor unique to AI, yet AI can be particularly efficient (even too efficient!) at doing so. This is important to understand, because any risks of optimizing metrics are heightened by AI. While metrics can be useful in their proper place, there are harms when they are unthinkingly applied. Some of the scariest instances of algorithms run amok all result from over-emphasizing metrics. We have to understand this dynamic in order to understand the urgent risks we are facing due to misuse of AI.\n",
    "\n",
    "In Kaggle, however, it's very straightforward to know what metric to use: Kaggle will tell you! According to this competition's [evaluation page](https://www.kaggle.com/competitions/us-patent-phrase-to-phrase-matching/overview/evaluation), \"*submissions are evaluated on the [Pearson correlation coefficient](https://en.wikipedia.org/wiki/Pearson_correlation_coefficient) between the predicted and actual similarity scores*.\" This coefficient is usually abbreviated using the single letter *r*. It is the most widely used measure of the degree of relationship between two variables.\n",
    "\n",
    "r can vary between `-1`, which means perfect inverse correlation, and `+1`, which means perfect positive correlation. The mathematical formula for it is much less important than getting a good intuition for what the different values look like. To start to get that intuition, let's look at some examples using the [California Housing](https://scikit-learn.org/stable/datasets/real_world.html#california-housing-dataset) dataset, which shows \"*is the median house value for California districts, expressed in hundreds of thousands of dollars*\". This dataset is provided by the excellent [scikit-learn](https://scikit-learn.org/stable/) library, which is the most widely used library for machine learning outside of deep learning."
   ]
  },
  {
   "cell_type": "markdown",
   "id": "ed983c51",
   "metadata": {
    "papermill": {
     "duration": 0.102797,
     "end_time": "2022-05-16T23:19:13.819824",
     "exception": false,
     "start_time": "2022-05-16T23:19:13.717027",
     "status": "completed"
    },
    "tags": []
   },
   "source": [
    "## Training"
   ]
  },
  {
   "cell_type": "markdown",
   "id": "352007a6",
   "metadata": {
    "papermill": {
     "duration": 0.118052,
     "end_time": "2022-05-16T23:19:14.047292",
     "exception": false,
     "start_time": "2022-05-16T23:19:13.929240",
     "status": "completed"
    },
    "tags": []
   },
   "source": [
    "## Training our model"
   ]
  },
  {
   "cell_type": "markdown",
   "id": "7cc0a49a",
   "metadata": {
    "papermill": {
     "duration": 0.102335,
     "end_time": "2022-05-16T23:19:14.253540",
     "exception": false,
     "start_time": "2022-05-16T23:19:14.151205",
     "status": "completed"
    },
    "tags": []
   },
   "source": [
    "To train a model in Transformers we'll need this:"
   ]
  },
  {
   "cell_type": "code",
   "execution_count": 24,
   "id": "811f584f",
   "metadata": {
    "execution": {
     "iopub.execute_input": "2022-05-16T23:19:14.466565Z",
     "iopub.status.busy": "2022-05-16T23:19:14.465852Z",
     "iopub.status.idle": "2022-05-16T23:19:18.918169Z",
     "shell.execute_reply": "2022-05-16T23:19:18.917243Z",
     "shell.execute_reply.started": "2022-04-19T22:50:46.722181Z"
    },
    "papermill": {
     "duration": 4.55931,
     "end_time": "2022-05-16T23:19:18.918306",
     "exception": false,
     "start_time": "2022-05-16T23:19:14.358996",
     "status": "completed"
    },
    "tags": []
   },
   "outputs": [],
   "source": [
    "from transformers import TrainingArguments,Trainer"
   ]
  },
  {
   "cell_type": "markdown",
   "id": "bef40f65",
   "metadata": {
    "papermill": {
     "duration": 0.103363,
     "end_time": "2022-05-16T23:19:19.125535",
     "exception": false,
     "start_time": "2022-05-16T23:19:19.022172",
     "status": "completed"
    },
    "tags": []
   },
   "source": [
    "We pick a batch size that fits our GPU, and small number of epochs so we can run experiments quickly:"
   ]
  },
  {
   "cell_type": "code",
   "execution_count": 25,
   "id": "9a7f73b8",
   "metadata": {
    "execution": {
     "iopub.execute_input": "2022-05-16T23:19:19.336295Z",
     "iopub.status.busy": "2022-05-16T23:19:19.334700Z",
     "iopub.status.idle": "2022-05-16T23:19:19.336896Z",
     "shell.execute_reply": "2022-05-16T23:19:19.337294Z",
     "shell.execute_reply.started": "2022-04-19T22:50:50.493351Z"
    },
    "papermill": {
     "duration": 0.109762,
     "end_time": "2022-05-16T23:19:19.337450",
     "exception": false,
     "start_time": "2022-05-16T23:19:19.227688",
     "status": "completed"
    },
    "tags": []
   },
   "outputs": [],
   "source": [
    "bs = 128\n",
    "epochs = 4"
   ]
  },
  {
   "cell_type": "markdown",
   "id": "1b9defba",
   "metadata": {
    "papermill": {
     "duration": 0.104127,
     "end_time": "2022-05-16T23:19:19.544960",
     "exception": false,
     "start_time": "2022-05-16T23:19:19.440833",
     "status": "completed"
    },
    "tags": []
   },
   "source": [
    "The most important hyperparameter is the learning rate. fastai provides a learning rate finder to help you figure this out, but Transformers doesn't, so you'll just have to use trial and error. The idea is to find the largest value you can, but which doesn't result in training failing."
   ]
  },
  {
   "cell_type": "code",
   "execution_count": 26,
   "id": "95d56aa8",
   "metadata": {
    "execution": {
     "iopub.execute_input": "2022-05-16T23:19:19.756018Z",
     "iopub.status.busy": "2022-05-16T23:19:19.755174Z",
     "iopub.status.idle": "2022-05-16T23:19:19.757522Z",
     "shell.execute_reply": "2022-05-16T23:19:19.756988Z",
     "shell.execute_reply.started": "2022-04-19T22:50:50.499493Z"
    },
    "papermill": {
     "duration": 0.109843,
     "end_time": "2022-05-16T23:19:19.757641",
     "exception": false,
     "start_time": "2022-05-16T23:19:19.647798",
     "status": "completed"
    },
    "tags": []
   },
   "outputs": [],
   "source": [
    "lr = 8e-5"
   ]
  },
  {
   "cell_type": "markdown",
   "id": "456eba4a",
   "metadata": {
    "papermill": {
     "duration": 0.104473,
     "end_time": "2022-05-16T23:19:19.964659",
     "exception": false,
     "start_time": "2022-05-16T23:19:19.860186",
     "status": "completed"
    },
    "tags": []
   },
   "source": [
    "Transformers uses the `TrainingArguments` class to set up arguments. Don't worry too much about the values we're using here -- they should generally work fine in most cases. It's just the 3 parameters above that you may need to change for different models."
   ]
  },
  {
   "cell_type": "code",
   "execution_count": 28,
   "id": "e009173f",
   "metadata": {
    "execution": {
     "iopub.execute_input": "2022-05-16T23:19:20.241601Z",
     "iopub.status.busy": "2022-05-16T23:19:20.178470Z",
     "iopub.status.idle": "2022-05-16T23:19:20.247751Z",
     "shell.execute_reply": "2022-05-16T23:19:20.247289Z",
     "shell.execute_reply.started": "2022-04-19T22:50:50.511653Z"
    },
    "papermill": {
     "duration": 0.178531,
     "end_time": "2022-05-16T23:19:20.247877",
     "exception": false,
     "start_time": "2022-05-16T23:19:20.069346",
     "status": "completed"
    },
    "tags": []
   },
   "outputs": [],
   "source": [
    "args = TrainingArguments('outputs', learning_rate=lr, warmup_ratio=0.1, lr_scheduler_type='cosine', fp16=True,\n",
    "    eval_strategy=\"epoch\", per_device_train_batch_size=bs, per_device_eval_batch_size=bs*2,\n",
    "    num_train_epochs=epochs, weight_decay=0.01, report_to='none')"
   ]
  },
  {
   "cell_type": "markdown",
   "id": "c6f09673",
   "metadata": {
    "papermill": {
     "duration": 0.10325,
     "end_time": "2022-05-16T23:19:20.455326",
     "exception": false,
     "start_time": "2022-05-16T23:19:20.352076",
     "status": "completed"
    },
    "tags": []
   },
   "source": [
    "We can now create our model, and `Trainer`, which is a class which combines the data and model together (just like `Learner` in fastai):"
   ]
  },
  {
   "cell_type": "code",
   "execution_count": 32,
   "id": "d0a14f8e",
   "metadata": {},
   "outputs": [],
   "source": [
    "def corr(x,y): return np.corrcoef(x,y)[0][1]"
   ]
  },
  {
   "cell_type": "code",
   "execution_count": 33,
   "id": "3f48c2aa",
   "metadata": {},
   "outputs": [],
   "source": [
    "def corr_d(eval_pred): return {'pearson': corr(*eval_pred)}"
   ]
  },
  {
   "cell_type": "code",
   "execution_count": 34,
   "id": "c242e16d",
   "metadata": {
    "execution": {
     "iopub.execute_input": "2022-05-16T23:19:20.669564Z",
     "iopub.status.busy": "2022-05-16T23:19:20.668967Z",
     "iopub.status.idle": "2022-05-16T23:19:41.632888Z",
     "shell.execute_reply": "2022-05-16T23:19:41.632215Z",
     "shell.execute_reply.started": "2022-04-19T22:50:50.57276Z"
    },
    "papermill": {
     "duration": 21.075395,
     "end_time": "2022-05-16T23:19:41.633043",
     "exception": false,
     "start_time": "2022-05-16T23:19:20.557648",
     "status": "completed"
    },
    "tags": []
   },
   "outputs": [
    {
     "name": "stderr",
     "output_type": "stream",
     "text": [
      "Some weights of DebertaV2ForSequenceClassification were not initialized from the model checkpoint at microsoft/deberta-v3-small and are newly initialized: ['classifier.bias', 'classifier.weight', 'pooler.dense.bias', 'pooler.dense.weight']\n",
      "You should probably TRAIN this model on a down-stream task to be able to use it for predictions and inference.\n"
     ]
    }
   ],
   "source": [
    "model = AutoModelForSequenceClassification.from_pretrained(model_nm, num_labels=1)\n",
    "trainer = Trainer(model, args, train_dataset=dds['train'], eval_dataset=dds['test'],\n",
    "                  tokenizer=tokz, compute_metrics=corr_d)"
   ]
  },
  {
   "cell_type": "markdown",
   "id": "e88b0728",
   "metadata": {
    "papermill": {
     "duration": 0.103838,
     "end_time": "2022-05-16T23:19:41.843310",
     "exception": false,
     "start_time": "2022-05-16T23:19:41.739472",
     "status": "completed"
    },
    "tags": []
   },
   "source": [
    "As you see, Transformers spits out lots of warnings. You can safely ignore them.\n",
    "\n",
    "Let's train our model!"
   ]
  },
  {
   "cell_type": "code",
   "execution_count": 35,
   "id": "1a8f21fc",
   "metadata": {
    "execution": {
     "iopub.execute_input": "2022-05-16T23:19:42.058507Z",
     "iopub.status.busy": "2022-05-16T23:19:42.057901Z",
     "iopub.status.idle": "2022-05-16T23:24:41.844317Z",
     "shell.execute_reply": "2022-05-16T23:24:41.843875Z",
     "shell.execute_reply.started": "2022-04-19T22:51:06.370314Z"
    },
    "papermill": {
     "duration": 299.896532,
     "end_time": "2022-05-16T23:24:41.844469",
     "exception": false,
     "start_time": "2022-05-16T23:19:41.947937",
     "status": "completed"
    },
    "tags": []
   },
   "outputs": [
    {
     "data": {
      "application/vnd.jupyter.widget-view+json": {
       "model_id": "4573cbe5e3334deaaeb49d0e3854b0cd",
       "version_major": 2,
       "version_minor": 0
      },
      "text/plain": [
       "  0%|          | 0/856 [00:00<?, ?it/s]"
      ]
     },
     "metadata": {},
     "output_type": "display_data"
    },
    {
     "data": {
      "application/vnd.jupyter.widget-view+json": {
       "model_id": "b0bdcc6de4cc4ec4b351f5b1e4e1640b",
       "version_major": 2,
       "version_minor": 0
      },
      "text/plain": [
       "  0%|          | 0/36 [00:00<?, ?it/s]"
      ]
     },
     "metadata": {},
     "output_type": "display_data"
    },
    {
     "name": "stdout",
     "output_type": "stream",
     "text": [
      "{'eval_loss': 0.02530163899064064, 'eval_pearson': 0.7917664128863953, 'eval_runtime': 1.0971, 'eval_samples_per_second': 8311.904, 'eval_steps_per_second': 32.814, 'epoch': 1.0}\n"
     ]
    },
    {
     "data": {
      "application/vnd.jupyter.widget-view+json": {
       "model_id": "90db029cf9f547d9bd41d5163869d8d0",
       "version_major": 2,
       "version_minor": 0
      },
      "text/plain": [
       "  0%|          | 0/36 [00:00<?, ?it/s]"
      ]
     },
     "metadata": {},
     "output_type": "display_data"
    },
    {
     "name": "stdout",
     "output_type": "stream",
     "text": [
      "{'eval_loss': 0.02233044244349003, 'eval_pearson': 0.8209119995419936, 'eval_runtime': 1.0932, 'eval_samples_per_second': 8341.85, 'eval_steps_per_second': 32.932, 'epoch': 2.0}\n",
      "{'loss': 0.0342, 'grad_norm': 0.20000532269477844, 'learning_rate': 3.544034360437838e-05, 'epoch': 2.34}\n"
     ]
    },
    {
     "data": {
      "application/vnd.jupyter.widget-view+json": {
       "model_id": "8dbead89260d4ddd9cc90632ba163273",
       "version_major": 2,
       "version_minor": 0
      },
      "text/plain": [
       "  0%|          | 0/36 [00:00<?, ?it/s]"
      ]
     },
     "metadata": {},
     "output_type": "display_data"
    },
    {
     "name": "stdout",
     "output_type": "stream",
     "text": [
      "{'eval_loss': 0.02283954806625843, 'eval_pearson': 0.8316344555829821, 'eval_runtime': 1.1038, 'eval_samples_per_second': 8261.58, 'eval_steps_per_second': 32.615, 'epoch': 3.0}\n"
     ]
    },
    {
     "data": {
      "application/vnd.jupyter.widget-view+json": {
       "model_id": "fd40ae1e28004c429b44f836a4707ada",
       "version_major": 2,
       "version_minor": 0
      },
      "text/plain": [
       "  0%|          | 0/36 [00:00<?, ?it/s]"
      ]
     },
     "metadata": {},
     "output_type": "display_data"
    },
    {
     "name": "stdout",
     "output_type": "stream",
     "text": [
      "{'eval_loss': 0.02246575616300106, 'eval_pearson': 0.8321053641740096, 'eval_runtime': 1.1188, 'eval_samples_per_second': 8150.731, 'eval_steps_per_second': 32.177, 'epoch': 4.0}\n",
      "{'train_runtime': 66.9909, 'train_samples_per_second': 1633.297, 'train_steps_per_second': 12.778, 'train_loss': 0.025648368296222152, 'epoch': 4.0}\n"
     ]
    }
   ],
   "source": [
    "trainer.train();"
   ]
  },
  {
   "cell_type": "markdown",
   "id": "f71e4a43",
   "metadata": {
    "papermill": {
     "duration": 0.128839,
     "end_time": "2022-05-16T23:24:42.089146",
     "exception": false,
     "start_time": "2022-05-16T23:24:41.960307",
     "status": "completed"
    },
    "tags": []
   },
   "source": [
    "Lots more warning from Transformers again -- you can ignore these as before.\n",
    "\n",
    "The key thing to look at is the \"Pearson\" value in table above. As you see, it's increasing, and is already above 0.8. That's great news! We can now submit our predictions to Kaggle if we want them to be scored on the official leaderboard. Let's get some predictions on the test set:"
   ]
  },
  {
   "cell_type": "code",
   "execution_count": 36,
   "id": "cc9ff8a9",
   "metadata": {
    "execution": {
     "iopub.execute_input": "2022-05-16T23:24:42.337547Z",
     "iopub.status.busy": "2022-05-16T23:24:42.336666Z",
     "iopub.status.idle": "2022-05-16T23:24:42.387175Z",
     "shell.execute_reply": "2022-05-16T23:24:42.387621Z",
     "shell.execute_reply.started": "2022-04-19T22:56:03.886175Z"
    },
    "papermill": {
     "duration": 0.176198,
     "end_time": "2022-05-16T23:24:42.387780",
     "exception": false,
     "start_time": "2022-05-16T23:24:42.211582",
     "status": "completed"
    },
    "tags": []
   },
   "outputs": [
    {
     "data": {
      "application/vnd.jupyter.widget-view+json": {
       "model_id": "247201e8bea34815b7f8ee28fc2408ae",
       "version_major": 2,
       "version_minor": 0
      },
      "text/plain": [
       "  0%|          | 0/1 [00:00<?, ?it/s]"
      ]
     },
     "metadata": {},
     "output_type": "display_data"
    },
    {
     "data": {
      "text/plain": [
       "array([[ 0.57910156],\n",
       "       [ 0.71533203],\n",
       "       [ 0.57470703],\n",
       "       [ 0.33837891],\n",
       "       [-0.02989197],\n",
       "       [ 0.47314453],\n",
       "       [ 0.48754883],\n",
       "       [-0.0140152 ],\n",
       "       [ 0.29736328],\n",
       "       [ 1.08984375],\n",
       "       [ 0.2590332 ],\n",
       "       [ 0.25341797],\n",
       "       [ 0.80566406],\n",
       "       [ 0.8515625 ],\n",
       "       [ 0.74023438],\n",
       "       [ 0.41430664],\n",
       "       [ 0.29980469],\n",
       "       [-0.02618408],\n",
       "       [ 0.69042969],\n",
       "       [ 0.37133789],\n",
       "       [ 0.47753906],\n",
       "       [ 0.22766113],\n",
       "       [ 0.07049561],\n",
       "       [ 0.27075195],\n",
       "       [ 0.55029297],\n",
       "       [-0.02171326],\n",
       "       [-0.03387451],\n",
       "       [-0.03942871],\n",
       "       [-0.04327393],\n",
       "       [ 0.65087891],\n",
       "       [ 0.26416016],\n",
       "       [ 0.00157166],\n",
       "       [ 0.68652344],\n",
       "       [ 0.51904297],\n",
       "       [ 0.4387207 ],\n",
       "       [ 0.21899414]])"
      ]
     },
     "execution_count": 36,
     "metadata": {},
     "output_type": "execute_result"
    }
   ],
   "source": [
    "preds = trainer.predict(eval_ds).predictions.astype(float)\n",
    "preds"
   ]
  },
  {
   "cell_type": "markdown",
   "id": "e7f99fe2",
   "metadata": {
    "papermill": {
     "duration": 0.118083,
     "end_time": "2022-05-16T23:24:42.627541",
     "exception": false,
     "start_time": "2022-05-16T23:24:42.509458",
     "status": "completed"
    },
    "tags": []
   },
   "source": [
    "Look out - some of our predictions are <0, or >1! This once again shows the value of remember to actually *look* at your data. Let's fix those out-of-bounds predictions:"
   ]
  },
  {
   "cell_type": "code",
   "execution_count": 37,
   "id": "87e31c26",
   "metadata": {
    "execution": {
     "iopub.execute_input": "2022-05-16T23:24:42.887528Z",
     "iopub.status.busy": "2022-05-16T23:24:42.886610Z",
     "iopub.status.idle": "2022-05-16T23:24:42.888262Z",
     "shell.execute_reply": "2022-05-16T23:24:42.888836Z",
     "shell.execute_reply.started": "2022-04-19T22:56:03.940986Z"
    },
    "papermill": {
     "duration": 0.130653,
     "end_time": "2022-05-16T23:24:42.888988",
     "exception": false,
     "start_time": "2022-05-16T23:24:42.758335",
     "status": "completed"
    },
    "tags": []
   },
   "outputs": [],
   "source": [
    "preds = np.clip(preds, 0, 1)"
   ]
  },
  {
   "cell_type": "code",
   "execution_count": 38,
   "id": "73ce77ef",
   "metadata": {
    "execution": {
     "iopub.execute_input": "2022-05-16T23:24:43.130852Z",
     "iopub.status.busy": "2022-05-16T23:24:43.130226Z",
     "iopub.status.idle": "2022-05-16T23:24:43.133011Z",
     "shell.execute_reply": "2022-05-16T23:24:43.133433Z",
     "shell.execute_reply.started": "2022-04-19T22:56:03.946586Z"
    },
    "papermill": {
     "duration": 0.126485,
     "end_time": "2022-05-16T23:24:43.133567",
     "exception": false,
     "start_time": "2022-05-16T23:24:43.007082",
     "status": "completed"
    },
    "tags": []
   },
   "outputs": [
    {
     "data": {
      "text/plain": [
       "array([[0.57910156],\n",
       "       [0.71533203],\n",
       "       [0.57470703],\n",
       "       [0.33837891],\n",
       "       [0.        ],\n",
       "       [0.47314453],\n",
       "       [0.48754883],\n",
       "       [0.        ],\n",
       "       [0.29736328],\n",
       "       [1.        ],\n",
       "       [0.2590332 ],\n",
       "       [0.25341797],\n",
       "       [0.80566406],\n",
       "       [0.8515625 ],\n",
       "       [0.74023438],\n",
       "       [0.41430664],\n",
       "       [0.29980469],\n",
       "       [0.        ],\n",
       "       [0.69042969],\n",
       "       [0.37133789],\n",
       "       [0.47753906],\n",
       "       [0.22766113],\n",
       "       [0.07049561],\n",
       "       [0.27075195],\n",
       "       [0.55029297],\n",
       "       [0.        ],\n",
       "       [0.        ],\n",
       "       [0.        ],\n",
       "       [0.        ],\n",
       "       [0.65087891],\n",
       "       [0.26416016],\n",
       "       [0.00157166],\n",
       "       [0.68652344],\n",
       "       [0.51904297],\n",
       "       [0.4387207 ],\n",
       "       [0.21899414]])"
      ]
     },
     "execution_count": 38,
     "metadata": {},
     "output_type": "execute_result"
    }
   ],
   "source": [
    "preds"
   ]
  },
  {
   "cell_type": "markdown",
   "id": "613fd9ce",
   "metadata": {
    "papermill": {
     "duration": 0.1167,
     "end_time": "2022-05-16T23:24:43.367254",
     "exception": false,
     "start_time": "2022-05-16T23:24:43.250554",
     "status": "completed"
    },
    "tags": []
   },
   "source": [
    "OK, now we're ready to create our submission file. If you save a CSV in your notebook, you will get the option to submit it later."
   ]
  },
  {
   "cell_type": "code",
   "execution_count": 39,
   "id": "7b89fb1f",
   "metadata": {
    "execution": {
     "iopub.execute_input": "2022-05-16T23:24:43.662645Z",
     "iopub.status.busy": "2022-05-16T23:24:43.661829Z",
     "iopub.status.idle": "2022-05-16T23:24:43.714350Z",
     "shell.execute_reply": "2022-05-16T23:24:43.712706Z",
     "shell.execute_reply.started": "2022-04-19T22:56:03.959351Z"
    },
    "papermill": {
     "duration": 0.173814,
     "end_time": "2022-05-16T23:24:43.714480",
     "exception": false,
     "start_time": "2022-05-16T23:24:43.540666",
     "status": "completed"
    },
    "tags": []
   },
   "outputs": [
    {
     "data": {
      "application/vnd.jupyter.widget-view+json": {
       "model_id": "e290e21ec93f487f96e79064d4313cfa",
       "version_major": 2,
       "version_minor": 0
      },
      "text/plain": [
       "Creating CSV from Arrow format:   0%|          | 0/1 [00:00<?, ?ba/s]"
      ]
     },
     "metadata": {},
     "output_type": "display_data"
    },
    {
     "data": {
      "text/plain": [
       "1059"
      ]
     },
     "execution_count": 39,
     "metadata": {},
     "output_type": "execute_result"
    }
   ],
   "source": [
    "import datasets\n",
    "\n",
    "submission = datasets.Dataset.from_dict({\n",
    "    'id': eval_ds['id'],\n",
    "    'score': preds\n",
    "})\n",
    "\n",
    "submission.to_csv('submission.csv', index=False)"
   ]
  },
  {
   "cell_type": "markdown",
   "id": "b4b0e3cf",
   "metadata": {
    "papermill": {
     "duration": 0.118094,
     "end_time": "2022-05-16T23:24:43.950959",
     "exception": false,
     "start_time": "2022-05-16T23:24:43.832865",
     "status": "completed"
    },
    "tags": []
   },
   "source": [
    "Unfortunately this is a *code competition* and internet access is disabled. That means the `pip install datasets` command we used above won't work if you want to submit to Kaggle. To fix this, you'll need to download the pip installers to Kaggle first, as [described here](https://www.kaggle.com/c/severstal-steel-defect-detection/discussion/113195). Once you've done that, disable internet in your notebook, go to the Kaggle leaderboards page, and click the *Submission* button."
   ]
  },
  {
   "cell_type": "markdown",
   "id": "5cfab1d5",
   "metadata": {
    "papermill": {
     "duration": 0.118314,
     "end_time": "2022-05-16T23:24:44.201057",
     "exception": false,
     "start_time": "2022-05-16T23:24:44.082743",
     "status": "completed"
    },
    "tags": []
   },
   "source": [
    "## The end"
   ]
  },
  {
   "cell_type": "markdown",
   "id": "59e989c1",
   "metadata": {
    "papermill": {
     "duration": 0.11781,
     "end_time": "2022-05-16T23:24:44.439635",
     "exception": false,
     "start_time": "2022-05-16T23:24:44.321825",
     "status": "completed"
    },
    "tags": []
   },
   "source": [
    "Next steps: [Iterate Like a Grandmaster](https://www.kaggle.com/code/jhoward/iterate-like-a-grandmaster/) notebook."
   ]
  }
 ],
 "metadata": {
  "kernelspec": {
   "display_name": "Python 3",
   "language": "python",
   "name": "python3"
  },
  "language_info": {
   "codemirror_mode": {
    "name": "ipython",
    "version": 3
   },
   "file_extension": ".py",
   "mimetype": "text/x-python",
   "name": "python",
   "nbconvert_exporter": "python",
   "pygments_lexer": "ipython3",
   "version": "3.11.6"
  },
  "papermill": {
   "default_parameters": {},
   "duration": 396.918297,
   "end_time": "2022-05-16T23:24:47.551396",
   "environment_variables": {},
   "exception": null,
   "input_path": "__notebook__.ipynb",
   "output_path": "__notebook__.ipynb",
   "parameters": {},
   "start_time": "2022-05-16T23:18:10.633099",
   "version": "2.3.3"
  },
  "widgets": {
   "application/vnd.jupyter.widget-state+json": {
    "state": {
     "008295fef4124f2187d085515b02b03f": {
      "model_module": "@jupyter-widgets/base",
      "model_module_version": "1.2.0",
      "model_name": "LayoutModel",
      "state": {
       "_model_module": "@jupyter-widgets/base",
       "_model_module_version": "1.2.0",
       "_model_name": "LayoutModel",
       "_view_count": null,
       "_view_module": "@jupyter-widgets/base",
       "_view_module_version": "1.2.0",
       "_view_name": "LayoutView",
       "align_content": null,
       "align_items": null,
       "align_self": null,
       "border": null,
       "bottom": null,
       "display": null,
       "flex": null,
       "flex_flow": null,
       "grid_area": null,
       "grid_auto_columns": null,
       "grid_auto_flow": null,
       "grid_auto_rows": null,
       "grid_column": null,
       "grid_gap": null,
       "grid_row": null,
       "grid_template_areas": null,
       "grid_template_columns": null,
       "grid_template_rows": null,
       "height": null,
       "justify_content": null,
       "justify_items": null,
       "left": null,
       "margin": null,
       "max_height": null,
       "max_width": null,
       "min_height": null,
       "min_width": null,
       "object_fit": null,
       "object_position": null,
       "order": null,
       "overflow": null,
       "overflow_x": null,
       "overflow_y": null,
       "padding": null,
       "right": null,
       "top": null,
       "visibility": null,
       "width": null
      }
     },
     "06f16c9f0e074c379a708f0fefb12ada": {
      "model_module": "@jupyter-widgets/controls",
      "model_module_version": "1.5.0",
      "model_name": "HBoxModel",
      "state": {
       "_dom_classes": [],
       "_model_module": "@jupyter-widgets/controls",
       "_model_module_version": "1.5.0",
       "_model_name": "HBoxModel",
       "_view_count": null,
       "_view_module": "@jupyter-widgets/controls",
       "_view_module_version": "1.5.0",
       "_view_name": "HBoxView",
       "box_style": "",
       "children": [
        "IPY_MODEL_49d32794ea3841029c3e495b16ccea97",
        "IPY_MODEL_503ffb73ada44598a4e819536482f7aa",
        "IPY_MODEL_21cf85c5a3cd4a998b46753e9e388dac"
       ],
       "layout": "IPY_MODEL_5f8e3235a83f402e95ed55f226078481"
      }
     },
     "10dc2ddd87e8401493d162303a6d3067": {
      "model_module": "@jupyter-widgets/base",
      "model_module_version": "1.2.0",
      "model_name": "LayoutModel",
      "state": {
       "_model_module": "@jupyter-widgets/base",
       "_model_module_version": "1.2.0",
       "_model_name": "LayoutModel",
       "_view_count": null,
       "_view_module": "@jupyter-widgets/base",
       "_view_module_version": "1.2.0",
       "_view_name": "LayoutView",
       "align_content": null,
       "align_items": null,
       "align_self": null,
       "border": null,
       "bottom": null,
       "display": null,
       "flex": null,
       "flex_flow": null,
       "grid_area": null,
       "grid_auto_columns": null,
       "grid_auto_flow": null,
       "grid_auto_rows": null,
       "grid_column": null,
       "grid_gap": null,
       "grid_row": null,
       "grid_template_areas": null,
       "grid_template_columns": null,
       "grid_template_rows": null,
       "height": null,
       "justify_content": null,
       "justify_items": null,
       "left": null,
       "margin": null,
       "max_height": null,
       "max_width": null,
       "min_height": null,
       "min_width": null,
       "object_fit": null,
       "object_position": null,
       "order": null,
       "overflow": null,
       "overflow_x": null,
       "overflow_y": null,
       "padding": null,
       "right": null,
       "top": null,
       "visibility": null,
       "width": null
      }
     },
     "159a982bb6c641b2942ce670ba6674f0": {
      "model_module": "@jupyter-widgets/base",
      "model_module_version": "1.2.0",
      "model_name": "LayoutModel",
      "state": {
       "_model_module": "@jupyter-widgets/base",
       "_model_module_version": "1.2.0",
       "_model_name": "LayoutModel",
       "_view_count": null,
       "_view_module": "@jupyter-widgets/base",
       "_view_module_version": "1.2.0",
       "_view_name": "LayoutView",
       "align_content": null,
       "align_items": null,
       "align_self": null,
       "border": null,
       "bottom": null,
       "display": null,
       "flex": null,
       "flex_flow": null,
       "grid_area": null,
       "grid_auto_columns": null,
       "grid_auto_flow": null,
       "grid_auto_rows": null,
       "grid_column": null,
       "grid_gap": null,
       "grid_row": null,
       "grid_template_areas": null,
       "grid_template_columns": null,
       "grid_template_rows": null,
       "height": null,
       "justify_content": null,
       "justify_items": null,
       "left": null,
       "margin": null,
       "max_height": null,
       "max_width": null,
       "min_height": null,
       "min_width": null,
       "object_fit": null,
       "object_position": null,
       "order": null,
       "overflow": null,
       "overflow_x": null,
       "overflow_y": null,
       "padding": null,
       "right": null,
       "top": null,
       "visibility": null,
       "width": null
      }
     },
     "1c605972a9b74f2b80c607f8eeb9ab86": {
      "model_module": "@jupyter-widgets/base",
      "model_module_version": "1.2.0",
      "model_name": "LayoutModel",
      "state": {
       "_model_module": "@jupyter-widgets/base",
       "_model_module_version": "1.2.0",
       "_model_name": "LayoutModel",
       "_view_count": null,
       "_view_module": "@jupyter-widgets/base",
       "_view_module_version": "1.2.0",
       "_view_name": "LayoutView",
       "align_content": null,
       "align_items": null,
       "align_self": null,
       "border": null,
       "bottom": null,
       "display": null,
       "flex": null,
       "flex_flow": null,
       "grid_area": null,
       "grid_auto_columns": null,
       "grid_auto_flow": null,
       "grid_auto_rows": null,
       "grid_column": null,
       "grid_gap": null,
       "grid_row": null,
       "grid_template_areas": null,
       "grid_template_columns": null,
       "grid_template_rows": null,
       "height": null,
       "justify_content": null,
       "justify_items": null,
       "left": null,
       "margin": null,
       "max_height": null,
       "max_width": null,
       "min_height": null,
       "min_width": null,
       "object_fit": null,
       "object_position": null,
       "order": null,
       "overflow": null,
       "overflow_x": null,
       "overflow_y": null,
       "padding": null,
       "right": null,
       "top": null,
       "visibility": null,
       "width": null
      }
     },
     "21cf85c5a3cd4a998b46753e9e388dac": {
      "model_module": "@jupyter-widgets/controls",
      "model_module_version": "1.5.0",
      "model_name": "HTMLModel",
      "state": {
       "_dom_classes": [],
       "_model_module": "@jupyter-widgets/controls",
       "_model_module_version": "1.5.0",
       "_model_name": "HTMLModel",
       "_view_count": null,
       "_view_module": "@jupyter-widgets/controls",
       "_view_module_version": "1.5.0",
       "_view_name": "HTMLView",
       "description": "",
       "description_tooltip": null,
       "layout": "IPY_MODEL_1c605972a9b74f2b80c607f8eeb9ab86",
       "placeholder": "​",
       "style": "IPY_MODEL_3ad0627d75304941979ab44efaeaa582",
       "value": " 273M/273M [00:12&lt;00:00, 24.5MB/s]"
      }
     },
     "256fc0db05a243189200884fb5615f29": {
      "model_module": "@jupyter-widgets/base",
      "model_module_version": "1.2.0",
      "model_name": "LayoutModel",
      "state": {
       "_model_module": "@jupyter-widgets/base",
       "_model_module_version": "1.2.0",
       "_model_name": "LayoutModel",
       "_view_count": null,
       "_view_module": "@jupyter-widgets/base",
       "_view_module_version": "1.2.0",
       "_view_name": "LayoutView",
       "align_content": null,
       "align_items": null,
       "align_self": null,
       "border": null,
       "bottom": null,
       "display": null,
       "flex": null,
       "flex_flow": null,
       "grid_area": null,
       "grid_auto_columns": null,
       "grid_auto_flow": null,
       "grid_auto_rows": null,
       "grid_column": null,
       "grid_gap": null,
       "grid_row": null,
       "grid_template_areas": null,
       "grid_template_columns": null,
       "grid_template_rows": null,
       "height": null,
       "justify_content": null,
       "justify_items": null,
       "left": null,
       "margin": null,
       "max_height": null,
       "max_width": null,
       "min_height": null,
       "min_width": null,
       "object_fit": null,
       "object_position": null,
       "order": null,
       "overflow": null,
       "overflow_x": null,
       "overflow_y": null,
       "padding": null,
       "right": null,
       "top": null,
       "visibility": null,
       "width": null
      }
     },
     "2e117ee790ce4f77b007f7343b755656": {
      "model_module": "@jupyter-widgets/base",
      "model_module_version": "1.2.0",
      "model_name": "LayoutModel",
      "state": {
       "_model_module": "@jupyter-widgets/base",
       "_model_module_version": "1.2.0",
       "_model_name": "LayoutModel",
       "_view_count": null,
       "_view_module": "@jupyter-widgets/base",
       "_view_module_version": "1.2.0",
       "_view_name": "LayoutView",
       "align_content": null,
       "align_items": null,
       "align_self": null,
       "border": null,
       "bottom": null,
       "display": null,
       "flex": null,
       "flex_flow": null,
       "grid_area": null,
       "grid_auto_columns": null,
       "grid_auto_flow": null,
       "grid_auto_rows": null,
       "grid_column": null,
       "grid_gap": null,
       "grid_row": null,
       "grid_template_areas": null,
       "grid_template_columns": null,
       "grid_template_rows": null,
       "height": null,
       "justify_content": null,
       "justify_items": null,
       "left": null,
       "margin": null,
       "max_height": null,
       "max_width": null,
       "min_height": null,
       "min_width": null,
       "object_fit": null,
       "object_position": null,
       "order": null,
       "overflow": null,
       "overflow_x": null,
       "overflow_y": null,
       "padding": null,
       "right": null,
       "top": null,
       "visibility": null,
       "width": null
      }
     },
     "35e8d3e51c034d32a2683117a3681b46": {
      "model_module": "@jupyter-widgets/controls",
      "model_module_version": "1.5.0",
      "model_name": "DescriptionStyleModel",
      "state": {
       "_model_module": "@jupyter-widgets/controls",
       "_model_module_version": "1.5.0",
       "_model_name": "DescriptionStyleModel",
       "_view_count": null,
       "_view_module": "@jupyter-widgets/base",
       "_view_module_version": "1.2.0",
       "_view_name": "StyleView",
       "description_width": ""
      }
     },
     "36e1ef743c92486297596c43e8087f8b": {
      "model_module": "@jupyter-widgets/base",
      "model_module_version": "1.2.0",
      "model_name": "LayoutModel",
      "state": {
       "_model_module": "@jupyter-widgets/base",
       "_model_module_version": "1.2.0",
       "_model_name": "LayoutModel",
       "_view_count": null,
       "_view_module": "@jupyter-widgets/base",
       "_view_module_version": "1.2.0",
       "_view_name": "LayoutView",
       "align_content": null,
       "align_items": null,
       "align_self": null,
       "border": null,
       "bottom": null,
       "display": null,
       "flex": null,
       "flex_flow": null,
       "grid_area": null,
       "grid_auto_columns": null,
       "grid_auto_flow": null,
       "grid_auto_rows": null,
       "grid_column": null,
       "grid_gap": null,
       "grid_row": null,
       "grid_template_areas": null,
       "grid_template_columns": null,
       "grid_template_rows": null,
       "height": null,
       "justify_content": null,
       "justify_items": null,
       "left": null,
       "margin": null,
       "max_height": null,
       "max_width": null,
       "min_height": null,
       "min_width": null,
       "object_fit": null,
       "object_position": null,
       "order": null,
       "overflow": null,
       "overflow_x": null,
       "overflow_y": null,
       "padding": null,
       "right": null,
       "top": null,
       "visibility": null,
       "width": null
      }
     },
     "3a264df5e1304dbd86a4a32875f69b6c": {
      "model_module": "@jupyter-widgets/base",
      "model_module_version": "1.2.0",
      "model_name": "LayoutModel",
      "state": {
       "_model_module": "@jupyter-widgets/base",
       "_model_module_version": "1.2.0",
       "_model_name": "LayoutModel",
       "_view_count": null,
       "_view_module": "@jupyter-widgets/base",
       "_view_module_version": "1.2.0",
       "_view_name": "LayoutView",
       "align_content": null,
       "align_items": null,
       "align_self": null,
       "border": null,
       "bottom": null,
       "display": null,
       "flex": null,
       "flex_flow": null,
       "grid_area": null,
       "grid_auto_columns": null,
       "grid_auto_flow": null,
       "grid_auto_rows": null,
       "grid_column": null,
       "grid_gap": null,
       "grid_row": null,
       "grid_template_areas": null,
       "grid_template_columns": null,
       "grid_template_rows": null,
       "height": null,
       "justify_content": null,
       "justify_items": null,
       "left": null,
       "margin": null,
       "max_height": null,
       "max_width": null,
       "min_height": null,
       "min_width": null,
       "object_fit": null,
       "object_position": null,
       "order": null,
       "overflow": null,
       "overflow_x": null,
       "overflow_y": null,
       "padding": null,
       "right": null,
       "top": null,
       "visibility": null,
       "width": null
      }
     },
     "3ad0627d75304941979ab44efaeaa582": {
      "model_module": "@jupyter-widgets/controls",
      "model_module_version": "1.5.0",
      "model_name": "DescriptionStyleModel",
      "state": {
       "_model_module": "@jupyter-widgets/controls",
       "_model_module_version": "1.5.0",
       "_model_name": "DescriptionStyleModel",
       "_view_count": null,
       "_view_module": "@jupyter-widgets/base",
       "_view_module_version": "1.2.0",
       "_view_name": "StyleView",
       "description_width": ""
      }
     },
     "3e97062c6a65478ab03c03adc8af248b": {
      "model_module": "@jupyter-widgets/controls",
      "model_module_version": "1.5.0",
      "model_name": "DescriptionStyleModel",
      "state": {
       "_model_module": "@jupyter-widgets/controls",
       "_model_module_version": "1.5.0",
       "_model_name": "DescriptionStyleModel",
       "_view_count": null,
       "_view_module": "@jupyter-widgets/base",
       "_view_module_version": "1.2.0",
       "_view_name": "StyleView",
       "description_width": ""
      }
     },
     "41a8c06f1c4b471ca7e5f64dee052ed0": {
      "model_module": "@jupyter-widgets/controls",
      "model_module_version": "1.5.0",
      "model_name": "DescriptionStyleModel",
      "state": {
       "_model_module": "@jupyter-widgets/controls",
       "_model_module_version": "1.5.0",
       "_model_name": "DescriptionStyleModel",
       "_view_count": null,
       "_view_module": "@jupyter-widgets/base",
       "_view_module_version": "1.2.0",
       "_view_name": "StyleView",
       "description_width": ""
      }
     },
     "476fbe79e9c54a3383ab18512ff96cf9": {
      "model_module": "@jupyter-widgets/controls",
      "model_module_version": "1.5.0",
      "model_name": "DescriptionStyleModel",
      "state": {
       "_model_module": "@jupyter-widgets/controls",
       "_model_module_version": "1.5.0",
       "_model_name": "DescriptionStyleModel",
       "_view_count": null,
       "_view_module": "@jupyter-widgets/base",
       "_view_module_version": "1.2.0",
       "_view_name": "StyleView",
       "description_width": ""
      }
     },
     "49d32794ea3841029c3e495b16ccea97": {
      "model_module": "@jupyter-widgets/controls",
      "model_module_version": "1.5.0",
      "model_name": "HTMLModel",
      "state": {
       "_dom_classes": [],
       "_model_module": "@jupyter-widgets/controls",
       "_model_module_version": "1.5.0",
       "_model_name": "HTMLModel",
       "_view_count": null,
       "_view_module": "@jupyter-widgets/controls",
       "_view_module_version": "1.5.0",
       "_view_name": "HTMLView",
       "description": "",
       "description_tooltip": null,
       "layout": "IPY_MODEL_9efde56cf8d546539799b23f1b8a4d6e",
       "placeholder": "​",
       "style": "IPY_MODEL_476fbe79e9c54a3383ab18512ff96cf9",
       "value": "Downloading: 100%"
      }
     },
     "4c0f7204d1fe4f25b8f672b7b84dcdf4": {
      "model_module": "@jupyter-widgets/base",
      "model_module_version": "1.2.0",
      "model_name": "LayoutModel",
      "state": {
       "_model_module": "@jupyter-widgets/base",
       "_model_module_version": "1.2.0",
       "_model_name": "LayoutModel",
       "_view_count": null,
       "_view_module": "@jupyter-widgets/base",
       "_view_module_version": "1.2.0",
       "_view_name": "LayoutView",
       "align_content": null,
       "align_items": null,
       "align_self": null,
       "border": null,
       "bottom": null,
       "display": null,
       "flex": null,
       "flex_flow": null,
       "grid_area": null,
       "grid_auto_columns": null,
       "grid_auto_flow": null,
       "grid_auto_rows": null,
       "grid_column": null,
       "grid_gap": null,
       "grid_row": null,
       "grid_template_areas": null,
       "grid_template_columns": null,
       "grid_template_rows": null,
       "height": null,
       "justify_content": null,
       "justify_items": null,
       "left": null,
       "margin": null,
       "max_height": null,
       "max_width": null,
       "min_height": null,
       "min_width": null,
       "object_fit": null,
       "object_position": null,
       "order": null,
       "overflow": null,
       "overflow_x": null,
       "overflow_y": null,
       "padding": null,
       "right": null,
       "top": null,
       "visibility": null,
       "width": null
      }
     },
     "4d114fb317fc4155b9e1ae54c2b87315": {
      "model_module": "@jupyter-widgets/base",
      "model_module_version": "1.2.0",
      "model_name": "LayoutModel",
      "state": {
       "_model_module": "@jupyter-widgets/base",
       "_model_module_version": "1.2.0",
       "_model_name": "LayoutModel",
       "_view_count": null,
       "_view_module": "@jupyter-widgets/base",
       "_view_module_version": "1.2.0",
       "_view_name": "LayoutView",
       "align_content": null,
       "align_items": null,
       "align_self": null,
       "border": null,
       "bottom": null,
       "display": null,
       "flex": null,
       "flex_flow": null,
       "grid_area": null,
       "grid_auto_columns": null,
       "grid_auto_flow": null,
       "grid_auto_rows": null,
       "grid_column": null,
       "grid_gap": null,
       "grid_row": null,
       "grid_template_areas": null,
       "grid_template_columns": null,
       "grid_template_rows": null,
       "height": null,
       "justify_content": null,
       "justify_items": null,
       "left": null,
       "margin": null,
       "max_height": null,
       "max_width": null,
       "min_height": null,
       "min_width": null,
       "object_fit": null,
       "object_position": null,
       "order": null,
       "overflow": null,
       "overflow_x": null,
       "overflow_y": null,
       "padding": null,
       "right": null,
       "top": null,
       "visibility": null,
       "width": null
      }
     },
     "4dc6bd3e6cf0414ea68344c03011a309": {
      "model_module": "@jupyter-widgets/controls",
      "model_module_version": "1.5.0",
      "model_name": "FloatProgressModel",
      "state": {
       "_dom_classes": [],
       "_model_module": "@jupyter-widgets/controls",
       "_model_module_version": "1.5.0",
       "_model_name": "FloatProgressModel",
       "_view_count": null,
       "_view_module": "@jupyter-widgets/controls",
       "_view_module_version": "1.5.0",
       "_view_name": "ProgressView",
       "bar_style": "success",
       "description": "",
       "description_tooltip": null,
       "layout": "IPY_MODEL_dc33bc5fb61b4efa92c76d639f1af722",
       "max": 578,
       "min": 0,
       "orientation": "horizontal",
       "style": "IPY_MODEL_fbc96783965c4dcda2e490512b4bab1c",
       "value": 578
      }
     },
     "503ffb73ada44598a4e819536482f7aa": {
      "model_module": "@jupyter-widgets/controls",
      "model_module_version": "1.5.0",
      "model_name": "FloatProgressModel",
      "state": {
       "_dom_classes": [],
       "_model_module": "@jupyter-widgets/controls",
       "_model_module_version": "1.5.0",
       "_model_name": "FloatProgressModel",
       "_view_count": null,
       "_view_module": "@jupyter-widgets/controls",
       "_view_module_version": "1.5.0",
       "_view_name": "ProgressView",
       "bar_style": "success",
       "description": "",
       "description_tooltip": null,
       "layout": "IPY_MODEL_b56b1e1419754e04832338be487552b0",
       "max": 286059269,
       "min": 0,
       "orientation": "horizontal",
       "style": "IPY_MODEL_6206d119fd9d44118d1dd9351b74b9af",
       "value": 286059269
      }
     },
     "51b3529f03ed4d07aed96e6e41159748": {
      "model_module": "@jupyter-widgets/controls",
      "model_module_version": "1.5.0",
      "model_name": "HBoxModel",
      "state": {
       "_dom_classes": [],
       "_model_module": "@jupyter-widgets/controls",
       "_model_module_version": "1.5.0",
       "_model_name": "HBoxModel",
       "_view_count": null,
       "_view_module": "@jupyter-widgets/controls",
       "_view_module_version": "1.5.0",
       "_view_name": "HBoxView",
       "box_style": "",
       "children": [
        "IPY_MODEL_985790ebc50e45ef8113f817b1a7bb21",
        "IPY_MODEL_4dc6bd3e6cf0414ea68344c03011a309",
        "IPY_MODEL_663dac2b39f143449c8cfe3ad268b5d9"
       ],
       "layout": "IPY_MODEL_84091969d7f74d0c97670a883ec227e0"
      }
     },
     "5224f65df85f40b79d9cdf9ad421d634": {
      "model_module": "@jupyter-widgets/base",
      "model_module_version": "1.2.0",
      "model_name": "LayoutModel",
      "state": {
       "_model_module": "@jupyter-widgets/base",
       "_model_module_version": "1.2.0",
       "_model_name": "LayoutModel",
       "_view_count": null,
       "_view_module": "@jupyter-widgets/base",
       "_view_module_version": "1.2.0",
       "_view_name": "LayoutView",
       "align_content": null,
       "align_items": null,
       "align_self": null,
       "border": null,
       "bottom": null,
       "display": null,
       "flex": null,
       "flex_flow": null,
       "grid_area": null,
       "grid_auto_columns": null,
       "grid_auto_flow": null,
       "grid_auto_rows": null,
       "grid_column": null,
       "grid_gap": null,
       "grid_row": null,
       "grid_template_areas": null,
       "grid_template_columns": null,
       "grid_template_rows": null,
       "height": null,
       "justify_content": null,
       "justify_items": null,
       "left": null,
       "margin": null,
       "max_height": null,
       "max_width": null,
       "min_height": null,
       "min_width": null,
       "object_fit": null,
       "object_position": null,
       "order": null,
       "overflow": null,
       "overflow_x": null,
       "overflow_y": null,
       "padding": null,
       "right": null,
       "top": null,
       "visibility": null,
       "width": null
      }
     },
     "537bb7bd2866449a8d9633536d02b38a": {
      "model_module": "@jupyter-widgets/controls",
      "model_module_version": "1.5.0",
      "model_name": "DescriptionStyleModel",
      "state": {
       "_model_module": "@jupyter-widgets/controls",
       "_model_module_version": "1.5.0",
       "_model_name": "DescriptionStyleModel",
       "_view_count": null,
       "_view_module": "@jupyter-widgets/base",
       "_view_module_version": "1.2.0",
       "_view_name": "StyleView",
       "description_width": ""
      }
     },
     "54f390c2a6eb4b91a7f214bbb8ed9f94": {
      "model_module": "@jupyter-widgets/base",
      "model_module_version": "1.2.0",
      "model_name": "LayoutModel",
      "state": {
       "_model_module": "@jupyter-widgets/base",
       "_model_module_version": "1.2.0",
       "_model_name": "LayoutModel",
       "_view_count": null,
       "_view_module": "@jupyter-widgets/base",
       "_view_module_version": "1.2.0",
       "_view_name": "LayoutView",
       "align_content": null,
       "align_items": null,
       "align_self": null,
       "border": null,
       "bottom": null,
       "display": null,
       "flex": null,
       "flex_flow": null,
       "grid_area": null,
       "grid_auto_columns": null,
       "grid_auto_flow": null,
       "grid_auto_rows": null,
       "grid_column": null,
       "grid_gap": null,
       "grid_row": null,
       "grid_template_areas": null,
       "grid_template_columns": null,
       "grid_template_rows": null,
       "height": null,
       "justify_content": null,
       "justify_items": null,
       "left": null,
       "margin": null,
       "max_height": null,
       "max_width": null,
       "min_height": null,
       "min_width": null,
       "object_fit": null,
       "object_position": null,
       "order": null,
       "overflow": null,
       "overflow_x": null,
       "overflow_y": null,
       "padding": null,
       "right": null,
       "top": null,
       "visibility": null,
       "width": null
      }
     },
     "56d3f6f0e303499a90cfad261dc78989": {
      "model_module": "@jupyter-widgets/base",
      "model_module_version": "1.2.0",
      "model_name": "LayoutModel",
      "state": {
       "_model_module": "@jupyter-widgets/base",
       "_model_module_version": "1.2.0",
       "_model_name": "LayoutModel",
       "_view_count": null,
       "_view_module": "@jupyter-widgets/base",
       "_view_module_version": "1.2.0",
       "_view_name": "LayoutView",
       "align_content": null,
       "align_items": null,
       "align_self": null,
       "border": null,
       "bottom": null,
       "display": null,
       "flex": null,
       "flex_flow": null,
       "grid_area": null,
       "grid_auto_columns": null,
       "grid_auto_flow": null,
       "grid_auto_rows": null,
       "grid_column": null,
       "grid_gap": null,
       "grid_row": null,
       "grid_template_areas": null,
       "grid_template_columns": null,
       "grid_template_rows": null,
       "height": null,
       "justify_content": null,
       "justify_items": null,
       "left": null,
       "margin": null,
       "max_height": null,
       "max_width": null,
       "min_height": null,
       "min_width": null,
       "object_fit": null,
       "object_position": null,
       "order": null,
       "overflow": null,
       "overflow_x": null,
       "overflow_y": null,
       "padding": null,
       "right": null,
       "top": null,
       "visibility": null,
       "width": null
      }
     },
     "5f8e3235a83f402e95ed55f226078481": {
      "model_module": "@jupyter-widgets/base",
      "model_module_version": "1.2.0",
      "model_name": "LayoutModel",
      "state": {
       "_model_module": "@jupyter-widgets/base",
       "_model_module_version": "1.2.0",
       "_model_name": "LayoutModel",
       "_view_count": null,
       "_view_module": "@jupyter-widgets/base",
       "_view_module_version": "1.2.0",
       "_view_name": "LayoutView",
       "align_content": null,
       "align_items": null,
       "align_self": null,
       "border": null,
       "bottom": null,
       "display": null,
       "flex": null,
       "flex_flow": null,
       "grid_area": null,
       "grid_auto_columns": null,
       "grid_auto_flow": null,
       "grid_auto_rows": null,
       "grid_column": null,
       "grid_gap": null,
       "grid_row": null,
       "grid_template_areas": null,
       "grid_template_columns": null,
       "grid_template_rows": null,
       "height": null,
       "justify_content": null,
       "justify_items": null,
       "left": null,
       "margin": null,
       "max_height": null,
       "max_width": null,
       "min_height": null,
       "min_width": null,
       "object_fit": null,
       "object_position": null,
       "order": null,
       "overflow": null,
       "overflow_x": null,
       "overflow_y": null,
       "padding": null,
       "right": null,
       "top": null,
       "visibility": null,
       "width": null
      }
     },
     "608f0e67c3dc4b8da44cfe2866f549e0": {
      "model_module": "@jupyter-widgets/controls",
      "model_module_version": "1.5.0",
      "model_name": "HTMLModel",
      "state": {
       "_dom_classes": [],
       "_model_module": "@jupyter-widgets/controls",
       "_model_module_version": "1.5.0",
       "_model_name": "HTMLModel",
       "_view_count": null,
       "_view_module": "@jupyter-widgets/controls",
       "_view_module_version": "1.5.0",
       "_view_name": "HTMLView",
       "description": "",
       "description_tooltip": null,
       "layout": "IPY_MODEL_a97fa35881084b82b6db81dbc5baf748",
       "placeholder": "​",
       "style": "IPY_MODEL_f10e1d086c9a469396736baf565b2029",
       "value": "Downloading: 100%"
      }
     },
     "6206d119fd9d44118d1dd9351b74b9af": {
      "model_module": "@jupyter-widgets/controls",
      "model_module_version": "1.5.0",
      "model_name": "ProgressStyleModel",
      "state": {
       "_model_module": "@jupyter-widgets/controls",
       "_model_module_version": "1.5.0",
       "_model_name": "ProgressStyleModel",
       "_view_count": null,
       "_view_module": "@jupyter-widgets/base",
       "_view_module_version": "1.2.0",
       "_view_name": "StyleView",
       "bar_color": null,
       "description_width": ""
      }
     },
     "660ff8a0fd564ef8a6ee597dd384eb27": {
      "model_module": "@jupyter-widgets/controls",
      "model_module_version": "1.5.0",
      "model_name": "ProgressStyleModel",
      "state": {
       "_model_module": "@jupyter-widgets/controls",
       "_model_module_version": "1.5.0",
       "_model_name": "ProgressStyleModel",
       "_view_count": null,
       "_view_module": "@jupyter-widgets/base",
       "_view_module_version": "1.2.0",
       "_view_name": "StyleView",
       "bar_color": null,
       "description_width": ""
      }
     },
     "663dac2b39f143449c8cfe3ad268b5d9": {
      "model_module": "@jupyter-widgets/controls",
      "model_module_version": "1.5.0",
      "model_name": "HTMLModel",
      "state": {
       "_dom_classes": [],
       "_model_module": "@jupyter-widgets/controls",
       "_model_module_version": "1.5.0",
       "_model_name": "HTMLModel",
       "_view_count": null,
       "_view_module": "@jupyter-widgets/controls",
       "_view_module_version": "1.5.0",
       "_view_name": "HTMLView",
       "description": "",
       "description_tooltip": null,
       "layout": "IPY_MODEL_3a264df5e1304dbd86a4a32875f69b6c",
       "placeholder": "​",
       "style": "IPY_MODEL_fe83c575183548ac95b73a8941eb1e7d",
       "value": " 578/578 [00:00&lt;00:00, 23.1kB/s]"
      }
     },
     "69e68b83bfe144bb95d01c779834cf18": {
      "model_module": "@jupyter-widgets/controls",
      "model_module_version": "1.5.0",
      "model_name": "HBoxModel",
      "state": {
       "_dom_classes": [],
       "_model_module": "@jupyter-widgets/controls",
       "_model_module_version": "1.5.0",
       "_model_name": "HBoxModel",
       "_view_count": null,
       "_view_module": "@jupyter-widgets/controls",
       "_view_module_version": "1.5.0",
       "_view_name": "HBoxView",
       "box_style": "",
       "children": [
        "IPY_MODEL_a57e1bd03e714c1d9f9eeadceea5e8c4",
        "IPY_MODEL_c22f1aa9299b44f394352972c055dac3",
        "IPY_MODEL_8ec109e52da042b2b8f21ac037bcd586"
       ],
       "layout": "IPY_MODEL_36e1ef743c92486297596c43e8087f8b"
      }
     },
     "6deff7987a9041fe81c349791054a655": {
      "model_module": "@jupyter-widgets/base",
      "model_module_version": "1.2.0",
      "model_name": "LayoutModel",
      "state": {
       "_model_module": "@jupyter-widgets/base",
       "_model_module_version": "1.2.0",
       "_model_name": "LayoutModel",
       "_view_count": null,
       "_view_module": "@jupyter-widgets/base",
       "_view_module_version": "1.2.0",
       "_view_name": "LayoutView",
       "align_content": null,
       "align_items": null,
       "align_self": null,
       "border": null,
       "bottom": null,
       "display": null,
       "flex": null,
       "flex_flow": null,
       "grid_area": null,
       "grid_auto_columns": null,
       "grid_auto_flow": null,
       "grid_auto_rows": null,
       "grid_column": null,
       "grid_gap": null,
       "grid_row": null,
       "grid_template_areas": null,
       "grid_template_columns": null,
       "grid_template_rows": null,
       "height": null,
       "justify_content": null,
       "justify_items": null,
       "left": null,
       "margin": null,
       "max_height": null,
       "max_width": null,
       "min_height": null,
       "min_width": null,
       "object_fit": null,
       "object_position": null,
       "order": null,
       "overflow": null,
       "overflow_x": null,
       "overflow_y": null,
       "padding": null,
       "right": null,
       "top": null,
       "visibility": null,
       "width": null
      }
     },
     "6f7b8c8a83d7405b953bcd7d4865b8ff": {
      "model_module": "@jupyter-widgets/controls",
      "model_module_version": "1.5.0",
      "model_name": "HTMLModel",
      "state": {
       "_dom_classes": [],
       "_model_module": "@jupyter-widgets/controls",
       "_model_module_version": "1.5.0",
       "_model_name": "HTMLModel",
       "_view_count": null,
       "_view_module": "@jupyter-widgets/controls",
       "_view_module_version": "1.5.0",
       "_view_name": "HTMLView",
       "description": "",
       "description_tooltip": null,
       "layout": "IPY_MODEL_6deff7987a9041fe81c349791054a655",
       "placeholder": "​",
       "style": "IPY_MODEL_b0bb29d13179477aa7e2350bfba39a58",
       "value": "Downloading: 100%"
      }
     },
     "6fd63352ffe744d9a8a338722e5f6c80": {
      "model_module": "@jupyter-widgets/controls",
      "model_module_version": "1.5.0",
      "model_name": "FloatProgressModel",
      "state": {
       "_dom_classes": [],
       "_model_module": "@jupyter-widgets/controls",
       "_model_module_version": "1.5.0",
       "_model_name": "FloatProgressModel",
       "_view_count": null,
       "_view_module": "@jupyter-widgets/controls",
       "_view_module_version": "1.5.0",
       "_view_name": "ProgressView",
       "bar_style": "success",
       "description": "",
       "description_tooltip": null,
       "layout": "IPY_MODEL_9743cd05fc074f13831bc705656e10f3",
       "max": 1,
       "min": 0,
       "orientation": "horizontal",
       "style": "IPY_MODEL_93b8e5ec3e5d401bb8c4c3e752b1f31c",
       "value": 1
      }
     },
     "70a35ac44b1346cc8d45771cda5b1b3b": {
      "model_module": "@jupyter-widgets/base",
      "model_module_version": "1.2.0",
      "model_name": "LayoutModel",
      "state": {
       "_model_module": "@jupyter-widgets/base",
       "_model_module_version": "1.2.0",
       "_model_name": "LayoutModel",
       "_view_count": null,
       "_view_module": "@jupyter-widgets/base",
       "_view_module_version": "1.2.0",
       "_view_name": "LayoutView",
       "align_content": null,
       "align_items": null,
       "align_self": null,
       "border": null,
       "bottom": null,
       "display": null,
       "flex": null,
       "flex_flow": null,
       "grid_area": null,
       "grid_auto_columns": null,
       "grid_auto_flow": null,
       "grid_auto_rows": null,
       "grid_column": null,
       "grid_gap": null,
       "grid_row": null,
       "grid_template_areas": null,
       "grid_template_columns": null,
       "grid_template_rows": null,
       "height": null,
       "justify_content": null,
       "justify_items": null,
       "left": null,
       "margin": null,
       "max_height": null,
       "max_width": null,
       "min_height": null,
       "min_width": null,
       "object_fit": null,
       "object_position": null,
       "order": null,
       "overflow": null,
       "overflow_x": null,
       "overflow_y": null,
       "padding": null,
       "right": null,
       "top": null,
       "visibility": null,
       "width": null
      }
     },
     "749866cf76b945da935d517c6b9cbf9e": {
      "model_module": "@jupyter-widgets/base",
      "model_module_version": "1.2.0",
      "model_name": "LayoutModel",
      "state": {
       "_model_module": "@jupyter-widgets/base",
       "_model_module_version": "1.2.0",
       "_model_name": "LayoutModel",
       "_view_count": null,
       "_view_module": "@jupyter-widgets/base",
       "_view_module_version": "1.2.0",
       "_view_name": "LayoutView",
       "align_content": null,
       "align_items": null,
       "align_self": null,
       "border": null,
       "bottom": null,
       "display": null,
       "flex": null,
       "flex_flow": null,
       "grid_area": null,
       "grid_auto_columns": null,
       "grid_auto_flow": null,
       "grid_auto_rows": null,
       "grid_column": null,
       "grid_gap": null,
       "grid_row": null,
       "grid_template_areas": null,
       "grid_template_columns": null,
       "grid_template_rows": null,
       "height": null,
       "justify_content": null,
       "justify_items": null,
       "left": null,
       "margin": null,
       "max_height": null,
       "max_width": null,
       "min_height": null,
       "min_width": null,
       "object_fit": null,
       "object_position": null,
       "order": null,
       "overflow": null,
       "overflow_x": null,
       "overflow_y": null,
       "padding": null,
       "right": null,
       "top": null,
       "visibility": null,
       "width": null
      }
     },
     "7ea9429179424f9089fe1ec977f7111c": {
      "model_module": "@jupyter-widgets/controls",
      "model_module_version": "1.5.0",
      "model_name": "ProgressStyleModel",
      "state": {
       "_model_module": "@jupyter-widgets/controls",
       "_model_module_version": "1.5.0",
       "_model_name": "ProgressStyleModel",
       "_view_count": null,
       "_view_module": "@jupyter-widgets/base",
       "_view_module_version": "1.2.0",
       "_view_name": "StyleView",
       "bar_color": null,
       "description_width": ""
      }
     },
     "80340c65362b48f6b8af7ae4564f651e": {
      "model_module": "@jupyter-widgets/controls",
      "model_module_version": "1.5.0",
      "model_name": "HTMLModel",
      "state": {
       "_dom_classes": [],
       "_model_module": "@jupyter-widgets/controls",
       "_model_module_version": "1.5.0",
       "_model_name": "HTMLModel",
       "_view_count": null,
       "_view_module": "@jupyter-widgets/controls",
       "_view_module_version": "1.5.0",
       "_view_name": "HTMLView",
       "description": "",
       "description_tooltip": null,
       "layout": "IPY_MODEL_54f390c2a6eb4b91a7f214bbb8ed9f94",
       "placeholder": "​",
       "style": "IPY_MODEL_db5874490df347068c32d5508bc7738a",
       "value": "100%"
      }
     },
     "84091969d7f74d0c97670a883ec227e0": {
      "model_module": "@jupyter-widgets/base",
      "model_module_version": "1.2.0",
      "model_name": "LayoutModel",
      "state": {
       "_model_module": "@jupyter-widgets/base",
       "_model_module_version": "1.2.0",
       "_model_name": "LayoutModel",
       "_view_count": null,
       "_view_module": "@jupyter-widgets/base",
       "_view_module_version": "1.2.0",
       "_view_name": "LayoutView",
       "align_content": null,
       "align_items": null,
       "align_self": null,
       "border": null,
       "bottom": null,
       "display": null,
       "flex": null,
       "flex_flow": null,
       "grid_area": null,
       "grid_auto_columns": null,
       "grid_auto_flow": null,
       "grid_auto_rows": null,
       "grid_column": null,
       "grid_gap": null,
       "grid_row": null,
       "grid_template_areas": null,
       "grid_template_columns": null,
       "grid_template_rows": null,
       "height": null,
       "justify_content": null,
       "justify_items": null,
       "left": null,
       "margin": null,
       "max_height": null,
       "max_width": null,
       "min_height": null,
       "min_width": null,
       "object_fit": null,
       "object_position": null,
       "order": null,
       "overflow": null,
       "overflow_x": null,
       "overflow_y": null,
       "padding": null,
       "right": null,
       "top": null,
       "visibility": null,
       "width": null
      }
     },
     "88571f1a3d274ebd9ea6bfcbb8234653": {
      "model_module": "@jupyter-widgets/controls",
      "model_module_version": "1.5.0",
      "model_name": "DescriptionStyleModel",
      "state": {
       "_model_module": "@jupyter-widgets/controls",
       "_model_module_version": "1.5.0",
       "_model_name": "DescriptionStyleModel",
       "_view_count": null,
       "_view_module": "@jupyter-widgets/base",
       "_view_module_version": "1.2.0",
       "_view_name": "StyleView",
       "description_width": ""
      }
     },
     "8b85917f250145d588524063b7ab560f": {
      "model_module": "@jupyter-widgets/controls",
      "model_module_version": "1.5.0",
      "model_name": "ProgressStyleModel",
      "state": {
       "_model_module": "@jupyter-widgets/controls",
       "_model_module_version": "1.5.0",
       "_model_name": "ProgressStyleModel",
       "_view_count": null,
       "_view_module": "@jupyter-widgets/base",
       "_view_module_version": "1.2.0",
       "_view_name": "StyleView",
       "bar_color": null,
       "description_width": ""
      }
     },
     "8d636b40e88e415ba36ac264b3885f32": {
      "model_module": "@jupyter-widgets/controls",
      "model_module_version": "1.5.0",
      "model_name": "HTMLModel",
      "state": {
       "_dom_classes": [],
       "_model_module": "@jupyter-widgets/controls",
       "_model_module_version": "1.5.0",
       "_model_name": "HTMLModel",
       "_view_count": null,
       "_view_module": "@jupyter-widgets/controls",
       "_view_module_version": "1.5.0",
       "_view_name": "HTMLView",
       "description": "",
       "description_tooltip": null,
       "layout": "IPY_MODEL_4c0f7204d1fe4f25b8f672b7b84dcdf4",
       "placeholder": "​",
       "style": "IPY_MODEL_88571f1a3d274ebd9ea6bfcbb8234653",
       "value": "100%"
      }
     },
     "8ec109e52da042b2b8f21ac037bcd586": {
      "model_module": "@jupyter-widgets/controls",
      "model_module_version": "1.5.0",
      "model_name": "HTMLModel",
      "state": {
       "_dom_classes": [],
       "_model_module": "@jupyter-widgets/controls",
       "_model_module_version": "1.5.0",
       "_model_name": "HTMLModel",
       "_view_count": null,
       "_view_module": "@jupyter-widgets/controls",
       "_view_module_version": "1.5.0",
       "_view_name": "HTMLView",
       "description": "",
       "description_tooltip": null,
       "layout": "IPY_MODEL_bc4e82cbac6e4fad8dfeb90e502d3ca2",
       "placeholder": "​",
       "style": "IPY_MODEL_537bb7bd2866449a8d9633536d02b38a",
       "value": " 1/1 [00:00&lt;00:00, 28.34ba/s]"
      }
     },
     "93b8e5ec3e5d401bb8c4c3e752b1f31c": {
      "model_module": "@jupyter-widgets/controls",
      "model_module_version": "1.5.0",
      "model_name": "ProgressStyleModel",
      "state": {
       "_model_module": "@jupyter-widgets/controls",
       "_model_module_version": "1.5.0",
       "_model_name": "ProgressStyleModel",
       "_view_count": null,
       "_view_module": "@jupyter-widgets/base",
       "_view_module_version": "1.2.0",
       "_view_name": "StyleView",
       "bar_color": null,
       "description_width": ""
      }
     },
     "9743cd05fc074f13831bc705656e10f3": {
      "model_module": "@jupyter-widgets/base",
      "model_module_version": "1.2.0",
      "model_name": "LayoutModel",
      "state": {
       "_model_module": "@jupyter-widgets/base",
       "_model_module_version": "1.2.0",
       "_model_name": "LayoutModel",
       "_view_count": null,
       "_view_module": "@jupyter-widgets/base",
       "_view_module_version": "1.2.0",
       "_view_name": "LayoutView",
       "align_content": null,
       "align_items": null,
       "align_self": null,
       "border": null,
       "bottom": null,
       "display": null,
       "flex": null,
       "flex_flow": null,
       "grid_area": null,
       "grid_auto_columns": null,
       "grid_auto_flow": null,
       "grid_auto_rows": null,
       "grid_column": null,
       "grid_gap": null,
       "grid_row": null,
       "grid_template_areas": null,
       "grid_template_columns": null,
       "grid_template_rows": null,
       "height": null,
       "justify_content": null,
       "justify_items": null,
       "left": null,
       "margin": null,
       "max_height": null,
       "max_width": null,
       "min_height": null,
       "min_width": null,
       "object_fit": null,
       "object_position": null,
       "order": null,
       "overflow": null,
       "overflow_x": null,
       "overflow_y": null,
       "padding": null,
       "right": null,
       "top": null,
       "visibility": null,
       "width": null
      }
     },
     "9778fcafa45b423abe090310a59efdd7": {
      "model_module": "@jupyter-widgets/controls",
      "model_module_version": "1.5.0",
      "model_name": "ProgressStyleModel",
      "state": {
       "_model_module": "@jupyter-widgets/controls",
       "_model_module_version": "1.5.0",
       "_model_name": "ProgressStyleModel",
       "_view_count": null,
       "_view_module": "@jupyter-widgets/base",
       "_view_module_version": "1.2.0",
       "_view_name": "StyleView",
       "bar_color": null,
       "description_width": ""
      }
     },
     "985790ebc50e45ef8113f817b1a7bb21": {
      "model_module": "@jupyter-widgets/controls",
      "model_module_version": "1.5.0",
      "model_name": "HTMLModel",
      "state": {
       "_dom_classes": [],
       "_model_module": "@jupyter-widgets/controls",
       "_model_module_version": "1.5.0",
       "_model_name": "HTMLModel",
       "_view_count": null,
       "_view_module": "@jupyter-widgets/controls",
       "_view_module_version": "1.5.0",
       "_view_name": "HTMLView",
       "description": "",
       "description_tooltip": null,
       "layout": "IPY_MODEL_ebb3a108204049d6b8dbc688581c2bba",
       "placeholder": "​",
       "style": "IPY_MODEL_e2fba9146df24492a1cb5a85fdfa3c80",
       "value": "Downloading: 100%"
      }
     },
     "9efde56cf8d546539799b23f1b8a4d6e": {
      "model_module": "@jupyter-widgets/base",
      "model_module_version": "1.2.0",
      "model_name": "LayoutModel",
      "state": {
       "_model_module": "@jupyter-widgets/base",
       "_model_module_version": "1.2.0",
       "_model_name": "LayoutModel",
       "_view_count": null,
       "_view_module": "@jupyter-widgets/base",
       "_view_module_version": "1.2.0",
       "_view_name": "LayoutView",
       "align_content": null,
       "align_items": null,
       "align_self": null,
       "border": null,
       "bottom": null,
       "display": null,
       "flex": null,
       "flex_flow": null,
       "grid_area": null,
       "grid_auto_columns": null,
       "grid_auto_flow": null,
       "grid_auto_rows": null,
       "grid_column": null,
       "grid_gap": null,
       "grid_row": null,
       "grid_template_areas": null,
       "grid_template_columns": null,
       "grid_template_rows": null,
       "height": null,
       "justify_content": null,
       "justify_items": null,
       "left": null,
       "margin": null,
       "max_height": null,
       "max_width": null,
       "min_height": null,
       "min_width": null,
       "object_fit": null,
       "object_position": null,
       "order": null,
       "overflow": null,
       "overflow_x": null,
       "overflow_y": null,
       "padding": null,
       "right": null,
       "top": null,
       "visibility": null,
       "width": null
      }
     },
     "a57e1bd03e714c1d9f9eeadceea5e8c4": {
      "model_module": "@jupyter-widgets/controls",
      "model_module_version": "1.5.0",
      "model_name": "HTMLModel",
      "state": {
       "_dom_classes": [],
       "_model_module": "@jupyter-widgets/controls",
       "_model_module_version": "1.5.0",
       "_model_name": "HTMLModel",
       "_view_count": null,
       "_view_module": "@jupyter-widgets/controls",
       "_view_module_version": "1.5.0",
       "_view_name": "HTMLView",
       "description": "",
       "description_tooltip": null,
       "layout": "IPY_MODEL_749866cf76b945da935d517c6b9cbf9e",
       "placeholder": "​",
       "style": "IPY_MODEL_35e8d3e51c034d32a2683117a3681b46",
       "value": "Creating CSV from Arrow format: 100%"
      }
     },
     "a63ffbf7222749909d590e03c08103d1": {
      "model_module": "@jupyter-widgets/controls",
      "model_module_version": "1.5.0",
      "model_name": "DescriptionStyleModel",
      "state": {
       "_model_module": "@jupyter-widgets/controls",
       "_model_module_version": "1.5.0",
       "_model_name": "DescriptionStyleModel",
       "_view_count": null,
       "_view_module": "@jupyter-widgets/base",
       "_view_module_version": "1.2.0",
       "_view_name": "StyleView",
       "description_width": ""
      }
     },
     "a97fa35881084b82b6db81dbc5baf748": {
      "model_module": "@jupyter-widgets/base",
      "model_module_version": "1.2.0",
      "model_name": "LayoutModel",
      "state": {
       "_model_module": "@jupyter-widgets/base",
       "_model_module_version": "1.2.0",
       "_model_name": "LayoutModel",
       "_view_count": null,
       "_view_module": "@jupyter-widgets/base",
       "_view_module_version": "1.2.0",
       "_view_name": "LayoutView",
       "align_content": null,
       "align_items": null,
       "align_self": null,
       "border": null,
       "bottom": null,
       "display": null,
       "flex": null,
       "flex_flow": null,
       "grid_area": null,
       "grid_auto_columns": null,
       "grid_auto_flow": null,
       "grid_auto_rows": null,
       "grid_column": null,
       "grid_gap": null,
       "grid_row": null,
       "grid_template_areas": null,
       "grid_template_columns": null,
       "grid_template_rows": null,
       "height": null,
       "justify_content": null,
       "justify_items": null,
       "left": null,
       "margin": null,
       "max_height": null,
       "max_width": null,
       "min_height": null,
       "min_width": null,
       "object_fit": null,
       "object_position": null,
       "order": null,
       "overflow": null,
       "overflow_x": null,
       "overflow_y": null,
       "padding": null,
       "right": null,
       "top": null,
       "visibility": null,
       "width": null
      }
     },
     "ac8ba7b571384940bb57dadacf3cdd90": {
      "model_module": "@jupyter-widgets/controls",
      "model_module_version": "1.5.0",
      "model_name": "HBoxModel",
      "state": {
       "_dom_classes": [],
       "_model_module": "@jupyter-widgets/controls",
       "_model_module_version": "1.5.0",
       "_model_name": "HBoxModel",
       "_view_count": null,
       "_view_module": "@jupyter-widgets/controls",
       "_view_module_version": "1.5.0",
       "_view_name": "HBoxView",
       "box_style": "",
       "children": [
        "IPY_MODEL_608f0e67c3dc4b8da44cfe2866f549e0",
        "IPY_MODEL_e8d5be2f3355441ba56c675788d7a863",
        "IPY_MODEL_cc9942b30ad145a7b5c70d177802c3cf"
       ],
       "layout": "IPY_MODEL_10dc2ddd87e8401493d162303a6d3067"
      }
     },
     "af1776634db84292b3ae8e9e0bb0d9a8": {
      "model_module": "@jupyter-widgets/controls",
      "model_module_version": "1.5.0",
      "model_name": "HTMLModel",
      "state": {
       "_dom_classes": [],
       "_model_module": "@jupyter-widgets/controls",
       "_model_module_version": "1.5.0",
       "_model_name": "HTMLModel",
       "_view_count": null,
       "_view_module": "@jupyter-widgets/controls",
       "_view_module_version": "1.5.0",
       "_view_name": "HTMLView",
       "description": "",
       "description_tooltip": null,
       "layout": "IPY_MODEL_70a35ac44b1346cc8d45771cda5b1b3b",
       "placeholder": "​",
       "style": "IPY_MODEL_a63ffbf7222749909d590e03c08103d1",
       "value": " 2.35M/2.35M [00:00&lt;00:00, 3.99MB/s]"
      }
     },
     "b0bb29d13179477aa7e2350bfba39a58": {
      "model_module": "@jupyter-widgets/controls",
      "model_module_version": "1.5.0",
      "model_name": "DescriptionStyleModel",
      "state": {
       "_model_module": "@jupyter-widgets/controls",
       "_model_module_version": "1.5.0",
       "_model_name": "DescriptionStyleModel",
       "_view_count": null,
       "_view_module": "@jupyter-widgets/base",
       "_view_module_version": "1.2.0",
       "_view_name": "StyleView",
       "description_width": ""
      }
     },
     "b4303ed564424f61b5b6bdf3397bb22a": {
      "model_module": "@jupyter-widgets/controls",
      "model_module_version": "1.5.0",
      "model_name": "HBoxModel",
      "state": {
       "_dom_classes": [],
       "_model_module": "@jupyter-widgets/controls",
       "_model_module_version": "1.5.0",
       "_model_name": "HBoxModel",
       "_view_count": null,
       "_view_module": "@jupyter-widgets/controls",
       "_view_module_version": "1.5.0",
       "_view_name": "HBoxView",
       "box_style": "",
       "children": [
        "IPY_MODEL_8d636b40e88e415ba36ac264b3885f32",
        "IPY_MODEL_d3817d49923448d8a969c654b1cd9963",
        "IPY_MODEL_e2a3a37fdef24a19b786d0dfccee779c"
       ],
       "layout": "IPY_MODEL_5224f65df85f40b79d9cdf9ad421d634"
      }
     },
     "b56b1e1419754e04832338be487552b0": {
      "model_module": "@jupyter-widgets/base",
      "model_module_version": "1.2.0",
      "model_name": "LayoutModel",
      "state": {
       "_model_module": "@jupyter-widgets/base",
       "_model_module_version": "1.2.0",
       "_model_name": "LayoutModel",
       "_view_count": null,
       "_view_module": "@jupyter-widgets/base",
       "_view_module_version": "1.2.0",
       "_view_name": "LayoutView",
       "align_content": null,
       "align_items": null,
       "align_self": null,
       "border": null,
       "bottom": null,
       "display": null,
       "flex": null,
       "flex_flow": null,
       "grid_area": null,
       "grid_auto_columns": null,
       "grid_auto_flow": null,
       "grid_auto_rows": null,
       "grid_column": null,
       "grid_gap": null,
       "grid_row": null,
       "grid_template_areas": null,
       "grid_template_columns": null,
       "grid_template_rows": null,
       "height": null,
       "justify_content": null,
       "justify_items": null,
       "left": null,
       "margin": null,
       "max_height": null,
       "max_width": null,
       "min_height": null,
       "min_width": null,
       "object_fit": null,
       "object_position": null,
       "order": null,
       "overflow": null,
       "overflow_x": null,
       "overflow_y": null,
       "padding": null,
       "right": null,
       "top": null,
       "visibility": null,
       "width": null
      }
     },
     "bc4e82cbac6e4fad8dfeb90e502d3ca2": {
      "model_module": "@jupyter-widgets/base",
      "model_module_version": "1.2.0",
      "model_name": "LayoutModel",
      "state": {
       "_model_module": "@jupyter-widgets/base",
       "_model_module_version": "1.2.0",
       "_model_name": "LayoutModel",
       "_view_count": null,
       "_view_module": "@jupyter-widgets/base",
       "_view_module_version": "1.2.0",
       "_view_name": "LayoutView",
       "align_content": null,
       "align_items": null,
       "align_self": null,
       "border": null,
       "bottom": null,
       "display": null,
       "flex": null,
       "flex_flow": null,
       "grid_area": null,
       "grid_auto_columns": null,
       "grid_auto_flow": null,
       "grid_auto_rows": null,
       "grid_column": null,
       "grid_gap": null,
       "grid_row": null,
       "grid_template_areas": null,
       "grid_template_columns": null,
       "grid_template_rows": null,
       "height": null,
       "justify_content": null,
       "justify_items": null,
       "left": null,
       "margin": null,
       "max_height": null,
       "max_width": null,
       "min_height": null,
       "min_width": null,
       "object_fit": null,
       "object_position": null,
       "order": null,
       "overflow": null,
       "overflow_x": null,
       "overflow_y": null,
       "padding": null,
       "right": null,
       "top": null,
       "visibility": null,
       "width": null
      }
     },
     "c22f1aa9299b44f394352972c055dac3": {
      "model_module": "@jupyter-widgets/controls",
      "model_module_version": "1.5.0",
      "model_name": "FloatProgressModel",
      "state": {
       "_dom_classes": [],
       "_model_module": "@jupyter-widgets/controls",
       "_model_module_version": "1.5.0",
       "_model_name": "FloatProgressModel",
       "_view_count": null,
       "_view_module": "@jupyter-widgets/controls",
       "_view_module_version": "1.5.0",
       "_view_name": "ProgressView",
       "bar_style": "success",
       "description": "",
       "description_tooltip": null,
       "layout": "IPY_MODEL_008295fef4124f2187d085515b02b03f",
       "max": 1,
       "min": 0,
       "orientation": "horizontal",
       "style": "IPY_MODEL_8b85917f250145d588524063b7ab560f",
       "value": 1
      }
     },
     "ca0706bad43c4135acfe3e5c261a8d71": {
      "model_module": "@jupyter-widgets/base",
      "model_module_version": "1.2.0",
      "model_name": "LayoutModel",
      "state": {
       "_model_module": "@jupyter-widgets/base",
       "_model_module_version": "1.2.0",
       "_model_name": "LayoutModel",
       "_view_count": null,
       "_view_module": "@jupyter-widgets/base",
       "_view_module_version": "1.2.0",
       "_view_name": "LayoutView",
       "align_content": null,
       "align_items": null,
       "align_self": null,
       "border": null,
       "bottom": null,
       "display": null,
       "flex": null,
       "flex_flow": null,
       "grid_area": null,
       "grid_auto_columns": null,
       "grid_auto_flow": null,
       "grid_auto_rows": null,
       "grid_column": null,
       "grid_gap": null,
       "grid_row": null,
       "grid_template_areas": null,
       "grid_template_columns": null,
       "grid_template_rows": null,
       "height": null,
       "justify_content": null,
       "justify_items": null,
       "left": null,
       "margin": null,
       "max_height": null,
       "max_width": null,
       "min_height": null,
       "min_width": null,
       "object_fit": null,
       "object_position": null,
       "order": null,
       "overflow": null,
       "overflow_x": null,
       "overflow_y": null,
       "padding": null,
       "right": null,
       "top": null,
       "visibility": null,
       "width": null
      }
     },
     "ca8cd9e5c48c4b17bad4862d247c0565": {
      "model_module": "@jupyter-widgets/controls",
      "model_module_version": "1.5.0",
      "model_name": "HBoxModel",
      "state": {
       "_dom_classes": [],
       "_model_module": "@jupyter-widgets/controls",
       "_model_module_version": "1.5.0",
       "_model_name": "HBoxModel",
       "_view_count": null,
       "_view_module": "@jupyter-widgets/controls",
       "_view_module_version": "1.5.0",
       "_view_name": "HBoxView",
       "box_style": "",
       "children": [
        "IPY_MODEL_80340c65362b48f6b8af7ae4564f651e",
        "IPY_MODEL_6fd63352ffe744d9a8a338722e5f6c80",
        "IPY_MODEL_d63928c3e5ae4fd89e655dc5d85659a6"
       ],
       "layout": "IPY_MODEL_2e117ee790ce4f77b007f7343b755656"
      }
     },
     "cb5689148481436bad9d4f548af4458c": {
      "model_module": "@jupyter-widgets/controls",
      "model_module_version": "1.5.0",
      "model_name": "DescriptionStyleModel",
      "state": {
       "_model_module": "@jupyter-widgets/controls",
       "_model_module_version": "1.5.0",
       "_model_name": "DescriptionStyleModel",
       "_view_count": null,
       "_view_module": "@jupyter-widgets/base",
       "_view_module_version": "1.2.0",
       "_view_name": "StyleView",
       "description_width": ""
      }
     },
     "cc9942b30ad145a7b5c70d177802c3cf": {
      "model_module": "@jupyter-widgets/controls",
      "model_module_version": "1.5.0",
      "model_name": "HTMLModel",
      "state": {
       "_dom_classes": [],
       "_model_module": "@jupyter-widgets/controls",
       "_model_module_version": "1.5.0",
       "_model_name": "HTMLModel",
       "_view_count": null,
       "_view_module": "@jupyter-widgets/controls",
       "_view_module_version": "1.5.0",
       "_view_name": "HTMLView",
       "description": "",
       "description_tooltip": null,
       "layout": "IPY_MODEL_56d3f6f0e303499a90cfad261dc78989",
       "placeholder": "​",
       "style": "IPY_MODEL_41a8c06f1c4b471ca7e5f64dee052ed0",
       "value": " 52.0/52.0 [00:00&lt;00:00, 1.14kB/s]"
      }
     },
     "cd87e4950c7e4ce0841b1887e28106a1": {
      "model_module": "@jupyter-widgets/base",
      "model_module_version": "1.2.0",
      "model_name": "LayoutModel",
      "state": {
       "_model_module": "@jupyter-widgets/base",
       "_model_module_version": "1.2.0",
       "_model_name": "LayoutModel",
       "_view_count": null,
       "_view_module": "@jupyter-widgets/base",
       "_view_module_version": "1.2.0",
       "_view_name": "LayoutView",
       "align_content": null,
       "align_items": null,
       "align_self": null,
       "border": null,
       "bottom": null,
       "display": null,
       "flex": null,
       "flex_flow": null,
       "grid_area": null,
       "grid_auto_columns": null,
       "grid_auto_flow": null,
       "grid_auto_rows": null,
       "grid_column": null,
       "grid_gap": null,
       "grid_row": null,
       "grid_template_areas": null,
       "grid_template_columns": null,
       "grid_template_rows": null,
       "height": null,
       "justify_content": null,
       "justify_items": null,
       "left": null,
       "margin": null,
       "max_height": null,
       "max_width": null,
       "min_height": null,
       "min_width": null,
       "object_fit": null,
       "object_position": null,
       "order": null,
       "overflow": null,
       "overflow_x": null,
       "overflow_y": null,
       "padding": null,
       "right": null,
       "top": null,
       "visibility": null,
       "width": null
      }
     },
     "d3817d49923448d8a969c654b1cd9963": {
      "model_module": "@jupyter-widgets/controls",
      "model_module_version": "1.5.0",
      "model_name": "FloatProgressModel",
      "state": {
       "_dom_classes": [],
       "_model_module": "@jupyter-widgets/controls",
       "_model_module_version": "1.5.0",
       "_model_name": "FloatProgressModel",
       "_view_count": null,
       "_view_module": "@jupyter-widgets/controls",
       "_view_module_version": "1.5.0",
       "_view_name": "ProgressView",
       "bar_style": "success",
       "description": "",
       "description_tooltip": null,
       "layout": "IPY_MODEL_256fc0db05a243189200884fb5615f29",
       "max": 37,
       "min": 0,
       "orientation": "horizontal",
       "style": "IPY_MODEL_660ff8a0fd564ef8a6ee597dd384eb27",
       "value": 37
      }
     },
     "d63928c3e5ae4fd89e655dc5d85659a6": {
      "model_module": "@jupyter-widgets/controls",
      "model_module_version": "1.5.0",
      "model_name": "HTMLModel",
      "state": {
       "_dom_classes": [],
       "_model_module": "@jupyter-widgets/controls",
       "_model_module_version": "1.5.0",
       "_model_name": "HTMLModel",
       "_view_count": null,
       "_view_module": "@jupyter-widgets/controls",
       "_view_module_version": "1.5.0",
       "_view_name": "HTMLView",
       "description": "",
       "description_tooltip": null,
       "layout": "IPY_MODEL_159a982bb6c641b2942ce670ba6674f0",
       "placeholder": "​",
       "style": "IPY_MODEL_3e97062c6a65478ab03c03adc8af248b",
       "value": " 1/1 [00:00&lt;00:00, 18.86ba/s]"
      }
     },
     "db5874490df347068c32d5508bc7738a": {
      "model_module": "@jupyter-widgets/controls",
      "model_module_version": "1.5.0",
      "model_name": "DescriptionStyleModel",
      "state": {
       "_model_module": "@jupyter-widgets/controls",
       "_model_module_version": "1.5.0",
       "_model_name": "DescriptionStyleModel",
       "_view_count": null,
       "_view_module": "@jupyter-widgets/base",
       "_view_module_version": "1.2.0",
       "_view_name": "StyleView",
       "description_width": ""
      }
     },
     "dc33bc5fb61b4efa92c76d639f1af722": {
      "model_module": "@jupyter-widgets/base",
      "model_module_version": "1.2.0",
      "model_name": "LayoutModel",
      "state": {
       "_model_module": "@jupyter-widgets/base",
       "_model_module_version": "1.2.0",
       "_model_name": "LayoutModel",
       "_view_count": null,
       "_view_module": "@jupyter-widgets/base",
       "_view_module_version": "1.2.0",
       "_view_name": "LayoutView",
       "align_content": null,
       "align_items": null,
       "align_self": null,
       "border": null,
       "bottom": null,
       "display": null,
       "flex": null,
       "flex_flow": null,
       "grid_area": null,
       "grid_auto_columns": null,
       "grid_auto_flow": null,
       "grid_auto_rows": null,
       "grid_column": null,
       "grid_gap": null,
       "grid_row": null,
       "grid_template_areas": null,
       "grid_template_columns": null,
       "grid_template_rows": null,
       "height": null,
       "justify_content": null,
       "justify_items": null,
       "left": null,
       "margin": null,
       "max_height": null,
       "max_width": null,
       "min_height": null,
       "min_width": null,
       "object_fit": null,
       "object_position": null,
       "order": null,
       "overflow": null,
       "overflow_x": null,
       "overflow_y": null,
       "padding": null,
       "right": null,
       "top": null,
       "visibility": null,
       "width": null
      }
     },
     "e2a3a37fdef24a19b786d0dfccee779c": {
      "model_module": "@jupyter-widgets/controls",
      "model_module_version": "1.5.0",
      "model_name": "HTMLModel",
      "state": {
       "_dom_classes": [],
       "_model_module": "@jupyter-widgets/controls",
       "_model_module_version": "1.5.0",
       "_model_name": "HTMLModel",
       "_view_count": null,
       "_view_module": "@jupyter-widgets/controls",
       "_view_module_version": "1.5.0",
       "_view_name": "HTMLView",
       "description": "",
       "description_tooltip": null,
       "layout": "IPY_MODEL_4d114fb317fc4155b9e1ae54c2b87315",
       "placeholder": "​",
       "style": "IPY_MODEL_cb5689148481436bad9d4f548af4458c",
       "value": " 37/37 [00:06&lt;00:00,  4.57ba/s]"
      }
     },
     "e2fba9146df24492a1cb5a85fdfa3c80": {
      "model_module": "@jupyter-widgets/controls",
      "model_module_version": "1.5.0",
      "model_name": "DescriptionStyleModel",
      "state": {
       "_model_module": "@jupyter-widgets/controls",
       "_model_module_version": "1.5.0",
       "_model_name": "DescriptionStyleModel",
       "_view_count": null,
       "_view_module": "@jupyter-widgets/base",
       "_view_module_version": "1.2.0",
       "_view_name": "StyleView",
       "description_width": ""
      }
     },
     "e472c1bca13b4cf0ac77a3b8f8e0b727": {
      "model_module": "@jupyter-widgets/controls",
      "model_module_version": "1.5.0",
      "model_name": "FloatProgressModel",
      "state": {
       "_dom_classes": [],
       "_model_module": "@jupyter-widgets/controls",
       "_model_module_version": "1.5.0",
       "_model_name": "FloatProgressModel",
       "_view_count": null,
       "_view_module": "@jupyter-widgets/controls",
       "_view_module_version": "1.5.0",
       "_view_name": "ProgressView",
       "bar_style": "success",
       "description": "",
       "description_tooltip": null,
       "layout": "IPY_MODEL_ebb78c1af41e4806b16436d1a6e22144",
       "max": 2464616,
       "min": 0,
       "orientation": "horizontal",
       "style": "IPY_MODEL_7ea9429179424f9089fe1ec977f7111c",
       "value": 2464616
      }
     },
     "e8d5be2f3355441ba56c675788d7a863": {
      "model_module": "@jupyter-widgets/controls",
      "model_module_version": "1.5.0",
      "model_name": "FloatProgressModel",
      "state": {
       "_dom_classes": [],
       "_model_module": "@jupyter-widgets/controls",
       "_model_module_version": "1.5.0",
       "_model_name": "FloatProgressModel",
       "_view_count": null,
       "_view_module": "@jupyter-widgets/controls",
       "_view_module_version": "1.5.0",
       "_view_name": "ProgressView",
       "bar_style": "success",
       "description": "",
       "description_tooltip": null,
       "layout": "IPY_MODEL_ca0706bad43c4135acfe3e5c261a8d71",
       "max": 52,
       "min": 0,
       "orientation": "horizontal",
       "style": "IPY_MODEL_9778fcafa45b423abe090310a59efdd7",
       "value": 52
      }
     },
     "ebb3a108204049d6b8dbc688581c2bba": {
      "model_module": "@jupyter-widgets/base",
      "model_module_version": "1.2.0",
      "model_name": "LayoutModel",
      "state": {
       "_model_module": "@jupyter-widgets/base",
       "_model_module_version": "1.2.0",
       "_model_name": "LayoutModel",
       "_view_count": null,
       "_view_module": "@jupyter-widgets/base",
       "_view_module_version": "1.2.0",
       "_view_name": "LayoutView",
       "align_content": null,
       "align_items": null,
       "align_self": null,
       "border": null,
       "bottom": null,
       "display": null,
       "flex": null,
       "flex_flow": null,
       "grid_area": null,
       "grid_auto_columns": null,
       "grid_auto_flow": null,
       "grid_auto_rows": null,
       "grid_column": null,
       "grid_gap": null,
       "grid_row": null,
       "grid_template_areas": null,
       "grid_template_columns": null,
       "grid_template_rows": null,
       "height": null,
       "justify_content": null,
       "justify_items": null,
       "left": null,
       "margin": null,
       "max_height": null,
       "max_width": null,
       "min_height": null,
       "min_width": null,
       "object_fit": null,
       "object_position": null,
       "order": null,
       "overflow": null,
       "overflow_x": null,
       "overflow_y": null,
       "padding": null,
       "right": null,
       "top": null,
       "visibility": null,
       "width": null
      }
     },
     "ebb78c1af41e4806b16436d1a6e22144": {
      "model_module": "@jupyter-widgets/base",
      "model_module_version": "1.2.0",
      "model_name": "LayoutModel",
      "state": {
       "_model_module": "@jupyter-widgets/base",
       "_model_module_version": "1.2.0",
       "_model_name": "LayoutModel",
       "_view_count": null,
       "_view_module": "@jupyter-widgets/base",
       "_view_module_version": "1.2.0",
       "_view_name": "LayoutView",
       "align_content": null,
       "align_items": null,
       "align_self": null,
       "border": null,
       "bottom": null,
       "display": null,
       "flex": null,
       "flex_flow": null,
       "grid_area": null,
       "grid_auto_columns": null,
       "grid_auto_flow": null,
       "grid_auto_rows": null,
       "grid_column": null,
       "grid_gap": null,
       "grid_row": null,
       "grid_template_areas": null,
       "grid_template_columns": null,
       "grid_template_rows": null,
       "height": null,
       "justify_content": null,
       "justify_items": null,
       "left": null,
       "margin": null,
       "max_height": null,
       "max_width": null,
       "min_height": null,
       "min_width": null,
       "object_fit": null,
       "object_position": null,
       "order": null,
       "overflow": null,
       "overflow_x": null,
       "overflow_y": null,
       "padding": null,
       "right": null,
       "top": null,
       "visibility": null,
       "width": null
      }
     },
     "f10e1d086c9a469396736baf565b2029": {
      "model_module": "@jupyter-widgets/controls",
      "model_module_version": "1.5.0",
      "model_name": "DescriptionStyleModel",
      "state": {
       "_model_module": "@jupyter-widgets/controls",
       "_model_module_version": "1.5.0",
       "_model_name": "DescriptionStyleModel",
       "_view_count": null,
       "_view_module": "@jupyter-widgets/base",
       "_view_module_version": "1.2.0",
       "_view_name": "StyleView",
       "description_width": ""
      }
     },
     "f3d8e12d6a4f44a3a9f5ddc2d88a0036": {
      "model_module": "@jupyter-widgets/controls",
      "model_module_version": "1.5.0",
      "model_name": "HBoxModel",
      "state": {
       "_dom_classes": [],
       "_model_module": "@jupyter-widgets/controls",
       "_model_module_version": "1.5.0",
       "_model_name": "HBoxModel",
       "_view_count": null,
       "_view_module": "@jupyter-widgets/controls",
       "_view_module_version": "1.5.0",
       "_view_name": "HBoxView",
       "box_style": "",
       "children": [
        "IPY_MODEL_6f7b8c8a83d7405b953bcd7d4865b8ff",
        "IPY_MODEL_e472c1bca13b4cf0ac77a3b8f8e0b727",
        "IPY_MODEL_af1776634db84292b3ae8e9e0bb0d9a8"
       ],
       "layout": "IPY_MODEL_cd87e4950c7e4ce0841b1887e28106a1"
      }
     },
     "fbc96783965c4dcda2e490512b4bab1c": {
      "model_module": "@jupyter-widgets/controls",
      "model_module_version": "1.5.0",
      "model_name": "ProgressStyleModel",
      "state": {
       "_model_module": "@jupyter-widgets/controls",
       "_model_module_version": "1.5.0",
       "_model_name": "ProgressStyleModel",
       "_view_count": null,
       "_view_module": "@jupyter-widgets/base",
       "_view_module_version": "1.2.0",
       "_view_name": "StyleView",
       "bar_color": null,
       "description_width": ""
      }
     },
     "fe83c575183548ac95b73a8941eb1e7d": {
      "model_module": "@jupyter-widgets/controls",
      "model_module_version": "1.5.0",
      "model_name": "DescriptionStyleModel",
      "state": {
       "_model_module": "@jupyter-widgets/controls",
       "_model_module_version": "1.5.0",
       "_model_name": "DescriptionStyleModel",
       "_view_count": null,
       "_view_module": "@jupyter-widgets/base",
       "_view_module_version": "1.2.0",
       "_view_name": "StyleView",
       "description_width": ""
      }
     }
    },
    "version_major": 2,
    "version_minor": 0
   }
  }
 },
 "nbformat": 4,
 "nbformat_minor": 5
}
